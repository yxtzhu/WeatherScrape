{
 "cells": [
  {
   "cell_type": "markdown",
   "metadata": {},
   "source": [
    "# Toronto Historical Weather Web Scraping"
   ]
  },
  {
   "cell_type": "code",
   "execution_count": 469,
   "metadata": {
    "collapsed": false
   },
   "outputs": [],
   "source": [
    "#Import libraries\n",
    "import urllib.request\n",
    "from bs4 import BeautifulSoup"
   ]
  },
  {
   "cell_type": "code",
   "execution_count": 470,
   "metadata": {
    "collapsed": true
   },
   "outputs": [],
   "source": [
    "#Government of Canada Website \n",
    "page = 'http://climate.weather.gc.ca/climate_data/daily_data_e.html?StationID=51459&timeframe=2&StartYear=1840&EndYear=2018&Day=7&Year=2018&Month=1#'\n"
   ]
  },
  {
   "cell_type": "code",
   "execution_count": 471,
   "metadata": {
    "collapsed": false
   },
   "outputs": [],
   "source": [
    "#Query the website\n",
    "f=urllib.request.urlopen(page).read()"
   ]
  },
  {
   "cell_type": "code",
   "execution_count": 472,
   "metadata": {
    "collapsed": false
   },
   "outputs": [
    {
     "name": "stdout",
     "output_type": "stream",
     "text": [
      "<class 'bs4.BeautifulSoup'>\n"
     ]
    }
   ],
   "source": [
    "#Parse the page using beautiful soup\n",
    "soup = BeautifulSoup(f, 'html.parser')\n",
    "print(type(soup))"
   ]
  },
  {
   "cell_type": "code",
   "execution_count": 633,
   "metadata": {
    "collapsed": false
   },
   "outputs": [],
   "source": [
    "#print(soup.prettify)"
   ]
  },
  {
   "cell_type": "code",
   "execution_count": 634,
   "metadata": {
    "collapsed": false
   },
   "outputs": [],
   "source": [
    "#Find the option for year and month\n",
    "option = soup.find_all('div', class_='col-md-6 col-sm-6 col-xs-6 text-center mrgn-tp-md mrgn-bttm-md')"
   ]
  },
  {
   "cell_type": "code",
   "execution_count": 635,
   "metadata": {
    "collapsed": false
   },
   "outputs": [
    {
     "name": "stdout",
     "output_type": "stream",
     "text": [
      "<div class=\"col-md-6 col-sm-6 col-xs-6 text-center mrgn-tp-md mrgn-bttm-md\"><label class=\"wb-inv position-top\" for=\"Year1\">Year</label><select class=\"form-control center-block mrgn-bttm-sm\" id=\"Year1\" name=\"Year\" onchange=\"yearChange(document.forms.namedItem('frmDateNav1'));\" size=\"1\">\n",
      "<option value=\"2013\">2013</option>\n",
      "<option value=\"2014\">2014</option>\n",
      "<option value=\"2015\">2015</option>\n",
      "<option value=\"2016\">2016</option>\n",
      "<option value=\"2017\">2017</option>\n",
      "<option selected=\"selected\" value=\"2018\">2018</option>\n",
      "</select>\n",
      "<label class=\"wb-inv position-top\" for=\"Month1\">Month</label><select class=\"form-control center-block mrgn-bttm-sm\" id=\"Month1\" name=\"Month\" onchange=\"javascript:yearChange(document.forms.namedItem('frmDateNav1'));\" size=\"1\"> <option selected=\"selected\" value=\"1\">January</option>\n",
      "</select>\n",
      "<input class=\"btn btn-primary mrgn-bttm-sm\" type=\"submit\" value=\"Go\"/>\n",
      "</div>\n"
     ]
    }
   ],
   "source": [
    "option=option[0]\n",
    "print(option)"
   ]
  },
  {
   "cell_type": "code",
   "execution_count": 636,
   "metadata": {
    "collapsed": false
   },
   "outputs": [
    {
     "name": "stdout",
     "output_type": "stream",
     "text": [
      "[<option selected=\"selected\" value=\"2018\">2018</option>, <option selected=\"selected\" value=\"1\">January</option>]\n"
     ]
    }
   ],
   "source": [
    "option=option.find_all('option', selected=True)\n",
    "print(option)"
   ]
  },
  {
   "cell_type": "code",
   "execution_count": 637,
   "metadata": {
    "collapsed": false
   },
   "outputs": [
    {
     "name": "stdout",
     "output_type": "stream",
     "text": [
      "2018\n"
     ]
    }
   ],
   "source": [
    "year=option[0]\n",
    "year=year.find(text=True)\n",
    "print(year)"
   ]
  },
  {
   "cell_type": "code",
   "execution_count": 638,
   "metadata": {
    "collapsed": false
   },
   "outputs": [
    {
     "name": "stdout",
     "output_type": "stream",
     "text": [
      "January\n"
     ]
    }
   ],
   "source": [
    "month=option[1]\n",
    "month=month.find(text=True)\n",
    "print(month)"
   ]
  },
  {
   "cell_type": "code",
   "execution_count": 640,
   "metadata": {
    "collapsed": false
   },
   "outputs": [],
   "source": [
    "#Find the table\n",
    "#table = soup.find_all('div', class_='table-responsive')\n",
    "table = soup.find_all('table')"
   ]
  },
  {
   "cell_type": "code",
   "execution_count": 641,
   "metadata": {
    "collapsed": false
   },
   "outputs": [
    {
     "name": "stdout",
     "output_type": "stream",
     "text": [
      "<class 'bs4.element.ResultSet'>\n"
     ]
    }
   ],
   "source": [
    "print(type(table))"
   ]
  },
  {
   "cell_type": "code",
   "execution_count": 642,
   "metadata": {
    "collapsed": false
   },
   "outputs": [
    {
     "name": "stdout",
     "output_type": "stream",
     "text": [
      "['Max Temp', 'Min Temp', 'Mean Temp', 'Heat Deg Days', 'Cool Deg Days', 'mm', 'cm', 'Total Precip', 'Snow on Grnd', 'Dir of Max Gust', 'Spd of Max Gust', 'Avg', 'Xtrm']\n"
     ]
    }
   ],
   "source": [
    "th_all = soup.find_all('th')\n",
    "result = []\n",
    "for th in th_all:\n",
    "    result.append(th.find('abbr', text=True))\n",
    "\n",
    "title=[]\n",
    "for abbr in result:\n",
    "    if abbr is not None:\n",
    "        title.append(abbr.string)\n",
    "    \n",
    "print(title)"
   ]
  },
  {
   "cell_type": "code",
   "execution_count": 643,
   "metadata": {
    "collapsed": false
   },
   "outputs": [
    {
     "name": "stdout",
     "output_type": "stream",
     "text": [
      "['Max Temp', 'Min Temp', 'Mean Temp', 'Heat Deg Days', 'Cool Deg Days', 'Total Rain', 'Total Snow', 'Total Precip', 'Snow on Grnd', 'Dir of Max Gust', 'Spd of Max Gust', 'Avg', 'Xtrm']\n"
     ]
    }
   ],
   "source": [
    "#clean up title\n",
    "for i in range(len(title)):\n",
    "    if title[i]=='mm':\n",
    "        title[i]=\"Total Rain\"\n",
    "    elif title[i]=='cm':\n",
    "        title[i]=\"Total Snow\"\n",
    "print(title)"
   ]
  },
  {
   "cell_type": "code",
   "execution_count": 674,
   "metadata": {
    "collapsed": false
   },
   "outputs": [
    {
     "name": "stdout",
     "output_type": "stream",
     "text": [
      "[[], [None, '-8.7', '-21.3', '-15.0', '33.0', '0.0', '0.0', None, None, '11', '28', '54'], [None, '-7.8', '-13.1', '-10.5', '28.5', '0.0', '0.0', '1.0', '1.0', '11', '24', '59'], [None, '-6.3', '-13.5', '-9.9', '27.9', '0.0', '0.0', None, None, '10', '22', '44'], [None, '-8.9', '-20.5', '-14.7', '32.7', '0.0', '0.0', None, None, '9', '32', '65'], [None, '-15.0', '-23.0', '-19.0', '37.0', '0.0', '0.0', None, None, '8', '31', '50'], [None, '15.5', '-23.5', '-4.0', '22.0', '0.0', '0.0', '0.0', '0.0', '7', '30', '32'], [None, '-2.0', '-20.9', '-11.5', '29.5', '0.0', '0.2', '0.2', '0.4', '7', '22', '52'], ['08', '\\xa0', '\\xa0', '\\xa0', '\\xa0', '\\xa0', '\\xa0', '\\xa0', '\\xa0', '\\xa0', '\\xa0', '\\xa0'], ['\\xa0', '\\xa0', '\\xa0', None, None, None, None, None, '\\xa0', '\\xa0', '\\xa0'], [None, None, None, '\\xa0', '\\xa0', '\\xa0', '\\xa0', '\\xa0', '\\xa0', '\\xa0', '\\xa0'], [None, None, '\\xa0', '\\xa0', '\\xa0', '\\xa0', '\\xa0', '\\xa0', '\\xa0', None, None], []]\n"
     ]
    }
   ],
   "source": [
    "table_body = soup.find('tbody')\n",
    "tr = table_body.find_all('tr')\n",
    "td=[]\n",
    "date=[]\n",
    "data=[]\n",
    "for row in tr:\n",
    "    d=[]\n",
    "    for r in row.find_all('td'):\n",
    "        date.append(r.find('abbr'))\n",
    "        d.append(r.string)\n",
    "    data.append(d)\n",
    "print(data)"
   ]
  },
  {
   "cell_type": "code",
   "execution_count": 675,
   "metadata": {
    "collapsed": false
   },
   "outputs": [
    {
     "name": "stdout",
     "output_type": "stream",
     "text": [
      "['January 1, 2018', 'January 2, 2018', 'January 3, 2018', 'January 4, 2018', 'January 5, 2018', 'January 6, 2018', 'January 7, 2018']\n"
     ]
    }
   ],
   "source": [
    "#clean date arrays\n",
    "t=[]\n",
    "for d in date:\n",
    "  if d is not None:\n",
    "    t.append(d.get('title'))\n",
    "print(t)"
   ]
  },
  {
   "cell_type": "code",
   "execution_count": 676,
   "metadata": {
    "collapsed": false
   },
   "outputs": [
    {
     "name": "stdout",
     "output_type": "stream",
     "text": [
      "[datetime.datetime(2018, 1, 1, 0, 0), datetime.datetime(2018, 1, 2, 0, 0), datetime.datetime(2018, 1, 3, 0, 0), datetime.datetime(2018, 1, 4, 0, 0), datetime.datetime(2018, 1, 5, 0, 0), datetime.datetime(2018, 1, 6, 0, 0), datetime.datetime(2018, 1, 7, 0, 0)]\n"
     ]
    }
   ],
   "source": [
    "from datetime import datetime\n",
    "date=[]\n",
    "for j in t:\n",
    "    date.append(datetime.strptime(j, '%B %d, %Y'))\n",
    "print(date)"
   ]
  },
  {
   "cell_type": "code",
   "execution_count": 679,
   "metadata": {
    "collapsed": false
   },
   "outputs": [
    {
     "name": "stdout",
     "output_type": "stream",
     "text": [
      "[['-8.7', '-21.3', '-15.0', '33.0', '0.0', '0.0', None, None, '11', '28', '54'], ['-7.8', '-13.1', '-10.5', '28.5', '0.0', '0.0', '1.0', '1.0', '11', '24', '59'], ['-6.3', '-13.5', '-9.9', '27.9', '0.0', '0.0', None, None, '10', '22', '44'], ['-8.9', '-20.5', '-14.7', '32.7', '0.0', '0.0', None, None, '9', '32', '65'], ['-15.0', '-23.0', '-19.0', '37.0', '0.0', '0.0', None, None, '8', '31', '50'], ['15.5', '-23.5', '-4.0', '22.0', '0.0', '0.0', '0.0', '0.0', '7', '30', '32'], ['-2.0', '-20.9', '-11.5', '29.5', '0.0', '0.2', '0.2', '0.4', '7', '22', '52']]\n"
     ]
    }
   ],
   "source": [
    "#clean up data array\n",
    "for entry in data:\n",
    "    if entry == []:\n",
    "        data.remove(entry)\n",
    "    else:\n",
    "        if len(entry)>11:\n",
    "            entry.pop(0)\n",
    "                \n",
    "for rm in range(len(data)-len(date)):\n",
    "    data.pop(len(data)-1)\n",
    "    rm -=1\n",
    "print(data)"
   ]
  },
  {
   "cell_type": "code",
   "execution_count": 692,
   "metadata": {
    "collapsed": false
   },
   "outputs": [
    {
     "name": "stdout",
     "output_type": "stream",
     "text": [
      "[[-8.7, -21.3, -15.0, 33.0, 0.0, 0.0, None, None, 11.0, 28.0, 54.0], [-7.8, -13.1, -10.5, 28.5, 0.0, 0.0, 1.0, 1.0, 11.0, 24.0, 59.0], [-6.3, -13.5, -9.9, 27.9, 0.0, 0.0, None, None, 10.0, 22.0, 44.0], [-8.9, -20.5, -14.7, 32.7, 0.0, 0.0, None, None, 9.0, 32.0, 65.0], [-15.0, -23.0, -19.0, 37.0, 0.0, 0.0, None, None, 8.0, 31.0, 50.0], [15.5, -23.5, -4.0, 22.0, 0.0, 0.0, 0.0, 0.0, 7.0, 30.0, 32.0], [-2.0, -20.9, -11.5, 29.5, 0.0, 0.2, 0.2, 0.4, 7.0, 22.0, 52.0]]\n"
     ]
    }
   ],
   "source": [
    "for r in range(len(data)):\n",
    "    for c in range(len(data[r])):\n",
    "        if data[r][c] is not None:\n",
    "            data[r][c]=float(data[r][c])\n",
    "print(data)"
   ]
  },
  {
   "cell_type": "code",
   "execution_count": 693,
   "metadata": {
    "collapsed": false
   },
   "outputs": [
    {
     "name": "stdout",
     "output_type": "stream",
     "text": [
      "['Max Temp', 'Min Temp', 'Mean Temp', 'Heat Deg Days', 'Cool Deg Days', 'Total Rain', 'Total Snow', 'Total Precip', 'Snow on Grnd', 'Dir of Max Gust', 'Spd of Max Gust']\n"
     ]
    }
   ],
   "source": [
    "for rm in range(len(title)-len(data[0])):\n",
    "    title.pop(len(title)-1)\n",
    "    rm-=1\n",
    "print(title)"
   ]
  },
  {
   "cell_type": "code",
   "execution_count": 696,
   "metadata": {
    "collapsed": false
   },
   "outputs": [
    {
     "name": "stdout",
     "output_type": "stream",
     "text": [
      "            Max Temp  Min Temp  Mean Temp  Heat Deg Days  Cool Deg Days  \\\n",
      "2018-01-01      -8.7     -21.3      -15.0           33.0            0.0   \n",
      "2018-01-02      -7.8     -13.1      -10.5           28.5            0.0   \n",
      "2018-01-03      -6.3     -13.5       -9.9           27.9            0.0   \n",
      "2018-01-04      -8.9     -20.5      -14.7           32.7            0.0   \n",
      "2018-01-05     -15.0     -23.0      -19.0           37.0            0.0   \n",
      "2018-01-06      15.5     -23.5       -4.0           22.0            0.0   \n",
      "2018-01-07      -2.0     -20.9      -11.5           29.5            0.0   \n",
      "\n",
      "            Total Rain  Total Snow  Total Precip  Snow on Grnd  \\\n",
      "2018-01-01         0.0         NaN           NaN          11.0   \n",
      "2018-01-02         0.0         1.0           1.0          11.0   \n",
      "2018-01-03         0.0         NaN           NaN          10.0   \n",
      "2018-01-04         0.0         NaN           NaN           9.0   \n",
      "2018-01-05         0.0         NaN           NaN           8.0   \n",
      "2018-01-06         0.0         0.0           0.0           7.0   \n",
      "2018-01-07         0.2         0.2           0.4           7.0   \n",
      "\n",
      "            Dir of Max Gust  Spd of Max Gust  \n",
      "2018-01-01             28.0             54.0  \n",
      "2018-01-02             24.0             59.0  \n",
      "2018-01-03             22.0             44.0  \n",
      "2018-01-04             32.0             65.0  \n",
      "2018-01-05             31.0             50.0  \n",
      "2018-01-06             30.0             32.0  \n",
      "2018-01-07             22.0             52.0  \n"
     ]
    }
   ],
   "source": [
    "#Construct dataframe for scraped data\n",
    "import pandas as pd\n",
    "import numpy as np\n",
    "import matplotlib.pyplot as plt\n",
    "%matplotlib inline\n",
    "df = pd.DataFrame(data=data,index=date,columns=title)\n",
    "print(df)"
   ]
  },
  {
   "cell_type": "code",
   "execution_count": 756,
   "metadata": {
    "collapsed": false
   },
   "outputs": [
    {
     "data": {
      "image/png": "[encoded data removed]",
      "text/plain": [
       "<matplotlib.figure.Figure at 0x118fa5cc0>"
      ]
     },
     "metadata": {},
     "output_type": "display_data"
    }
   ],
   "source": [
    "plt.figure(figsize=(20, 10)); plt.plot(date, data); plt.legend(title);plt.title('Toronto Weather Data Jan 2018');"
   ]
  },
  {
   "cell_type": "code",
   "execution_count": null,
   "metadata": {
    "collapsed": false
   },
   "outputs": [],
   "source": []
  },
  {
   "cell_type": "code",
   "execution_count": null,
   "metadata": {
    "collapsed": false
   },
   "outputs": [],
   "source": []
  },
  {
   "cell_type": "code",
   "execution_count": null,
   "metadata": {
    "collapsed": true
   },
   "outputs": [],
   "source": []
  }
 ],
 "metadata": {
  "kernelspec": {
   "display_name": "Python [Root]",
   "language": "python",
   "name": "Python [Root]"
  },
  "language_info": {
   "codemirror_mode": {
    "name": "ipython",
    "version": 3
   },
   "file_extension": ".py",
   "mimetype": "text/x-python",
   "name": "python",
   "nbconvert_exporter": "python",
   "pygments_lexer": "ipython3",
   "version": "3.5.2"
  }
 },
 "nbformat": 4,
 "nbformat_minor": 2
}
