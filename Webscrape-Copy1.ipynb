{
 "cells": [
  {
   "cell_type": "markdown",
   "metadata": {},
   "source": [
    "# Toronto Historical Weather Web Scraping"
   ]
  },
  {
   "cell_type": "code",
   "execution_count": 2,
   "metadata": {
    "collapsed": false
   },
   "outputs": [],
   "source": [
    "#Import libraries\n",
    "import urllib.request\n",
    "from bs4 import BeautifulSoup"
   ]
  },
  {
   "cell_type": "code",
   "execution_count": 14,
   "metadata": {
    "collapsed": false
   },
   "outputs": [
    {
     "name": "stdout",
     "output_type": "stream",
     "text": [
      "[['-8.7', '-21.3', '-15.0', '33.0', '0.0', '0.0', None, None, '11', '28', '54'], ['-7.8', '-13.1', '-10.5', '28.5', '0.0', '0.0', '1.0', '1.0', '11', '24', '59'], ['-6.3', '-13.5', '-9.9', '27.9', '0.0', '0.0', None, None, '10', '22', '44'], ['-8.9', '-20.5', '-14.7', '32.7', '0.0', '0.0', None, None, '9', '32', '65'], ['-15.0', '-23.0', '-19.0', '37.0', '0.0', '0.0', None, None, '8', '31', '50'], ['-16.4', '-23.5', '-20.0', '38.0', '0.0', '0.0', '0.0', '0.0', '7', '30', '32'], ['-2.0', '-20.9', '-11.5', '29.5', '0.0', '0.2', '0.2', '0.4', '7', '22', '52'], ['2.2', '-2.6', '-0.2', '18.2', '0.0', '0.6', '4.0', '4.2', '9', '25', '50'], ['0.6', '-2.5', '-1.0', '19.0', '0.0', '0.0', None, None, '7', '31', '39'], ['6.6', '-4.9', '0.9', '17.1', '0.0', '2.6', '0.0', '2.6', '6', '\\xa0', '<31'], ['12.6', '4.5', '8.6', '9.4', '0.0', '7.0', '0.0', '7.0', '2', '21', '37'], ['12.2', '-12.6', '-0.2', '18.2', '0.0', '10.2', '3.4', '14.2', '3', '32', '67'], ['-11.6', '-16.9', '-14.3', '32.3', '0.0', '0.0', '0.0', '0.0', '3', '34', '61'], ['-6.5', '-17.3', '-11.9', '29.9', '0.0', '0.0', '0.0', '0.0', '1', '14', '35'], ['-6.5', '-9.0', '-7.8', '25.8', '0.0', '0.0', '4.4', '3.8', '1', '11', '56'], ['-3.1', '-10.3', '-6.7', '24.7', '0.0', '0.0', '1.6', '1.4', '5', '\\xa0', '<31']]\n",
      "           Max Temp Min Temp Mean Temp Heat Deg Days Cool Deg Days Total Rain  \\\n",
      "2018-01-01     -8.7    -21.3     -15.0          33.0           0.0        0.0   \n",
      "2018-01-02     -7.8    -13.1     -10.5          28.5           0.0        0.0   \n",
      "2018-01-03     -6.3    -13.5      -9.9          27.9           0.0        0.0   \n",
      "2018-01-04     -8.9    -20.5     -14.7          32.7           0.0        0.0   \n",
      "2018-01-05    -15.0    -23.0     -19.0          37.0           0.0        0.0   \n",
      "2018-01-06    -16.4    -23.5     -20.0          38.0           0.0        0.0   \n",
      "2018-01-07     -2.0    -20.9     -11.5          29.5           0.0        0.2   \n",
      "2018-01-08      2.2     -2.6      -0.2          18.2           0.0        0.6   \n",
      "2018-01-09      0.6     -2.5      -1.0          19.0           0.0        0.0   \n",
      "2018-01-10      6.6     -4.9       0.9          17.1           0.0        2.6   \n",
      "2018-01-11     12.6      4.5       8.6           9.4           0.0        7.0   \n",
      "2018-01-12     12.2    -12.6      -0.2          18.2           0.0       10.2   \n",
      "2018-01-13    -11.6    -16.9     -14.3          32.3           0.0        0.0   \n",
      "2018-01-14     -6.5    -17.3     -11.9          29.9           0.0        0.0   \n",
      "2018-01-15     -6.5     -9.0      -7.8          25.8           0.0        0.0   \n",
      "2018-01-16     -3.1    -10.3      -6.7          24.7           0.0        0.0   \n",
      "\n",
      "           Total Snow Total Precip Snow on Grnd Dir of Max Gust  \\\n",
      "2018-01-01       None         None           11              28   \n",
      "2018-01-02        1.0          1.0           11              24   \n",
      "2018-01-03       None         None           10              22   \n",
      "2018-01-04       None         None            9              32   \n",
      "2018-01-05       None         None            8              31   \n",
      "2018-01-06        0.0          0.0            7              30   \n",
      "2018-01-07        0.2          0.4            7              22   \n",
      "2018-01-08        4.0          4.2            9              25   \n",
      "2018-01-09       None         None            7              31   \n",
      "2018-01-10        0.0          2.6            6                   \n",
      "2018-01-11        0.0          7.0            2              21   \n",
      "2018-01-12        3.4         14.2            3              32   \n",
      "2018-01-13        0.0          0.0            3              34   \n",
      "2018-01-14        0.0          0.0            1              14   \n",
      "2018-01-15        4.4          3.8            1              11   \n",
      "2018-01-16        1.6          1.4            5                   \n",
      "\n",
      "           Spd of Max Gust  \n",
      "2018-01-01              54  \n",
      "2018-01-02              59  \n",
      "2018-01-03              44  \n",
      "2018-01-04              65  \n",
      "2018-01-05              50  \n",
      "2018-01-06              32  \n",
      "2018-01-07              52  \n",
      "2018-01-08              50  \n",
      "2018-01-09              39  \n",
      "2018-01-10             <31  \n",
      "2018-01-11              37  \n",
      "2018-01-12              67  \n",
      "2018-01-13              61  \n",
      "2018-01-14              35  \n",
      "2018-01-15              56  \n",
      "2018-01-16             <31  \n"
     ]
    }
   ],
   "source": [
    "#Government of Canada Website \n",
    "page = 'http://climate.weather.gc.ca/climate_data/daily_data_e.html?StationID=51459&timeframe=2&StartYear=1840&EndYear=2018&Day=7&Year=2018&Month=1#'\n",
    "#Query the site\n",
    "f=urllib.request.urlopen(page).read()\n",
    "#Parse the page using beautiful soup\n",
    "soup = BeautifulSoup(f, 'html.parser')\n",
    "#Find the option for year and month\n",
    "option = soup.find_all('div', class_='col-md-6 col-sm-6 col-xs-6 text-center mrgn-tp-md mrgn-bttm-md')\n",
    "option=option[0]\n",
    "option=option.find_all('option', selected=True)\n",
    "year=option[0]\n",
    "year=year.find(text=True)\n",
    "month=option[1]\n",
    "month=month.find(text=True)\n",
    "#Find the table\n",
    "#table = soup.find_all('div', class_='table-responsive')\n",
    "table = soup.find_all('table')\n",
    "#Find the titles\n",
    "th_all = soup.find_all('th')\n",
    "result = []\n",
    "for th in th_all:\n",
    "    result.append(th.find('abbr', text=True))\n",
    "\n",
    "title=[]\n",
    "for abbr in result:\n",
    "    if abbr is not None:\n",
    "        title.append(abbr.string)\n",
    "#clean up title\n",
    "for i in range(len(title)):\n",
    "    if title[i]=='mm':\n",
    "        title[i]=\"Total Rain\"\n",
    "    elif title[i]=='cm':\n",
    "        title[i]=\"Total Snow\"\n",
    "#Get row data\n",
    "table_body = soup.find('tbody')\n",
    "tr = table_body.find_all('tr')\n",
    "td=[]\n",
    "date=[]\n",
    "data=[]\n",
    "for row in tr:\n",
    "    d=[]\n",
    "    for r in row.find_all('td'):\n",
    "        date.append(r.find('abbr'))\n",
    "        d.append(r.string)\n",
    "    data.append(d)\n",
    "\n",
    "#clean date arrays\n",
    "t=[]\n",
    "for d in date:\n",
    "    if d is not None:\n",
    "        t.append(d.get('title'))\n",
    "#Convert to date\n",
    "from datetime import datetime\n",
    "date=[]\n",
    "for j in t:\n",
    "    date.append(datetime.strptime(j, '%B %d, %Y'))\n",
    "\n",
    "#clean up data array\n",
    "for entry in data:\n",
    "    if entry == []:\n",
    "        data.remove(entry)\n",
    "    \n",
    "for entry in data:\n",
    "    if len(entry)>11:\n",
    "        entry.pop(0)\n",
    "                \n",
    "\n",
    "for rm in range(len(data)-len(date)):\n",
    "    data.pop(len(data)-1)\n",
    "    rm -=1\n",
    "\n",
    "for rm in range(len(title)-len(data[0])):\n",
    "    title.pop(len(title)-1)\n",
    "    rm-=1\n",
    "    \n",
    "print(data)\n",
    "import pandas as pd\n",
    "import numpy as np\n",
    "\n",
    "df = pd.DataFrame(data=data,index=date,columns=title)\n",
    "print(df)"
   ]
  },
  {
   "cell_type": "code",
   "execution_count": 9,
   "metadata": {
    "collapsed": false
   },
   "outputs": [
    {
     "name": "stdout",
     "output_type": "stream",
     "text": [
      "            Max Temp  Min Temp  Mean Temp  Heat Deg Days  Cool Deg Days  \\\n",
      "2018-01-01      -8.7     -21.3      -15.0           33.0            0.0   \n",
      "2018-01-02     -13.1     -10.5       28.5            0.0            0.0   \n",
      "2018-01-03     -13.5      -9.9       27.9            0.0            0.0   \n",
      "2018-01-04     -20.5     -14.7       32.7            0.0            0.0   \n",
      "2018-01-05     -23.0     -19.0       37.0            0.0            0.0   \n",
      "2018-01-06     -23.5     -20.0       38.0            0.0            0.0   \n",
      "2018-01-07     -20.9     -11.5       29.5            0.0            0.2   \n",
      "2018-01-08      -2.6      -0.2       18.2            0.0            0.6   \n",
      "2018-01-09      -2.5      -1.0       19.0            0.0            0.0   \n",
      "2018-01-10      -4.9       0.9       17.1            0.0            2.6   \n",
      "2018-01-11       4.5       8.6        9.4            0.0            7.0   \n",
      "2018-01-12     -12.6      -0.2       18.2            0.0           10.2   \n",
      "2018-01-13     -16.9     -14.3       32.3            0.0            0.0   \n",
      "2018-01-14     -17.3     -11.9       29.9            0.0            0.0   \n",
      "2018-01-15      -9.0      -7.8       25.8            0.0            0.0   \n",
      "2018-01-16     -10.3      -6.7       24.7            0.0            0.0   \n",
      "\n",
      "            Total Rain  Total Snow  Total Precip Snow on Grnd Dir of Max Gust  \\\n",
      "2018-01-01         0.0         NaN           NaN           11              28   \n",
      "2018-01-02         1.0         1.0          11.0           24              59   \n",
      "2018-01-03         NaN         NaN          10.0           22              44   \n",
      "2018-01-04         NaN         NaN           9.0           32              65   \n",
      "2018-01-05         NaN         NaN           8.0           31              50   \n",
      "2018-01-06         0.0         0.0           7.0           30              32   \n",
      "2018-01-07         0.2         0.4           7.0           22              52   \n",
      "2018-01-08         4.0         4.2           9.0           25              50   \n",
      "2018-01-09         NaN         NaN           7.0           31              39   \n",
      "2018-01-10         0.0         2.6           6.0                          <31   \n",
      "2018-01-11         0.0         7.0           2.0           21              37   \n",
      "2018-01-12         3.4        14.2           3.0           32              67   \n",
      "2018-01-13         0.0         0.0           3.0           34              61   \n",
      "2018-01-14         0.0         0.0           1.0           14              35   \n",
      "2018-01-15         4.4         3.8           1.0           11              56   \n",
      "2018-01-16         1.6         1.4           5.0                          <31   \n",
      "\n",
      "            Spd of Max Gust  \n",
      "2018-01-01             54.0  \n",
      "2018-01-02              NaN  \n",
      "2018-01-03              NaN  \n",
      "2018-01-04              NaN  \n",
      "2018-01-05              NaN  \n",
      "2018-01-06              NaN  \n",
      "2018-01-07              NaN  \n",
      "2018-01-08              NaN  \n",
      "2018-01-09              NaN  \n",
      "2018-01-10              NaN  \n",
      "2018-01-11              NaN  \n",
      "2018-01-12              NaN  \n",
      "2018-01-13              NaN  \n",
      "2018-01-14              NaN  \n",
      "2018-01-15              NaN  \n",
      "2018-01-16              NaN  \n"
     ]
    }
   ],
   "source": [
    "#Construct dataframe for scraped data\n",
    "import pandas as pd\n",
    "import numpy as np\n",
    "\n",
    "#df = pd.DataFrame(data=data,index=date,columns=title)\n",
    "df = pd.DataFrame(data=data)\n",
    "#df.convert_objects(convert_numeric=True)\n",
    "df=df.apply(pd.to_numeric, errors=\"ignore\")\n",
    "df.drop(df.columns[[0]], axis=1, inplace=True)\n",
    "df.rename(columns=dict(zip(list(df),title)), inplace=True)\n",
    "df.index=date\n",
    "print (df)"
   ]
  },
  {
   "cell_type": "code",
   "execution_count": 4,
   "metadata": {
    "collapsed": false
   },
   "outputs": [
    {
     "data": {
      "text/plain": [
       "Max Temp           float64\n",
       "Min Temp           float64\n",
       "Mean Temp          float64\n",
       "Heat Deg Days      float64\n",
       "Cool Deg Days      float64\n",
       "Total Rain         float64\n",
       "Total Snow         float64\n",
       "Total Precip       float64\n",
       "Snow on Grnd        object\n",
       "Dir of Max Gust     object\n",
       "Spd of Max Gust    float64\n",
       "dtype: object"
      ]
     },
     "execution_count": 4,
     "metadata": {},
     "output_type": "execute_result"
    }
   ],
   "source": [
    "df.dtypes"
   ]
  },
  {
   "cell_type": "code",
   "execution_count": 7,
   "metadata": {
    "collapsed": false
   },
   "outputs": [],
   "source": [
    "import matplotlib.pyplot as plt\n",
    "%matplotlib inline"
   ]
  },
  {
   "cell_type": "code",
   "execution_count": 8,
   "metadata": {
    "collapsed": false
   },
   "outputs": [
    {
     "data": {
      "text/plain": [
       "<matplotlib.figure.Figure at 0x1222aca90>"
      ]
     },
     "metadata": {},
     "output_type": "display_data"
    },
    {
     "data": {
      "image/png": "[encoded data removed]",
      "text/plain": [
       "<matplotlib.figure.Figure at 0x12273b8d0>"
      ]
     },
     "metadata": {},
     "output_type": "display_data"
    }
   ],
   "source": [
    "plt.figure(figsize=(40, 10)); df.plot(y=['Max Temp', 'Min Temp'],use_index=True, kind='bar'); plt.legend(title);plt.title('Toronto Weather Data Jan 2018');"
   ]
  },
  {
   "cell_type": "code",
   "execution_count": null,
   "metadata": {
    "collapsed": false
   },
   "outputs": [],
   "source": []
  },
  {
   "cell_type": "code",
   "execution_count": null,
   "metadata": {
    "collapsed": false
   },
   "outputs": [],
   "source": []
  },
  {
   "cell_type": "code",
   "execution_count": null,
   "metadata": {
    "collapsed": false
   },
   "outputs": [],
   "source": []
  },
  {
   "cell_type": "code",
   "execution_count": null,
   "metadata": {
    "collapsed": false
   },
   "outputs": [],
   "source": []
  },
  {
   "cell_type": "code",
   "execution_count": null,
   "metadata": {
    "collapsed": false
   },
   "outputs": [],
   "source": []
  },
  {
   "cell_type": "code",
   "execution_count": 12,
   "metadata": {
    "collapsed": false
   },
   "outputs": [],
   "source": []
  },
  {
   "cell_type": "code",
   "execution_count": null,
   "metadata": {
    "collapsed": false
   },
   "outputs": [],
   "source": []
  },
  {
   "cell_type": "code",
   "execution_count": null,
   "metadata": {
    "collapsed": false
   },
   "outputs": [],
   "source": []
  },
  {
   "cell_type": "code",
   "execution_count": null,
   "metadata": {
    "collapsed": false
   },
   "outputs": [],
   "source": []
  },
  {
   "cell_type": "code",
   "execution_count": null,
   "metadata": {
    "collapsed": false
   },
   "outputs": [],
   "source": []
  },
  {
   "cell_type": "code",
   "execution_count": null,
   "metadata": {
    "collapsed": false
   },
   "outputs": [],
   "source": []
  },
  {
   "cell_type": "code",
   "execution_count": null,
   "metadata": {
    "collapsed": false
   },
   "outputs": [],
   "source": []
  },
  {
   "cell_type": "code",
   "execution_count": null,
   "metadata": {
    "collapsed": false
   },
   "outputs": [],
   "source": []
  },
  {
   "cell_type": "code",
   "execution_count": null,
   "metadata": {
    "collapsed": false
   },
   "outputs": [],
   "source": []
  },
  {
   "cell_type": "code",
   "execution_count": null,
   "metadata": {
    "collapsed": false
   },
   "outputs": [],
   "source": []
  },
  {
   "cell_type": "code",
   "execution_count": null,
   "metadata": {
    "collapsed": false
   },
   "outputs": [],
   "source": []
  },
  {
   "cell_type": "code",
   "execution_count": null,
   "metadata": {
    "collapsed": false
   },
   "outputs": [],
   "source": []
  },
  {
   "cell_type": "code",
   "execution_count": null,
   "metadata": {
    "collapsed": false
   },
   "outputs": [],
   "source": []
  },
  {
   "cell_type": "code",
   "execution_count": null,
   "metadata": {
    "collapsed": false
   },
   "outputs": [],
   "source": []
  },
  {
   "cell_type": "code",
   "execution_count": null,
   "metadata": {
    "collapsed": true
   },
   "outputs": [],
   "source": []
  }
 ],
 "metadata": {
  "anaconda-cloud": {},
  "kernelspec": {
   "display_name": "Python [Root]",
   "language": "python",
   "name": "Python [Root]"
  },
  "language_info": {
   "codemirror_mode": {
    "name": "ipython",
    "version": 3
   },
   "file_extension": ".py",
   "mimetype": "text/x-python",
   "name": "python",
   "nbconvert_exporter": "python",
   "pygments_lexer": "ipython3",
   "version": "3.5.2"
  }
 },
 "nbformat": 4,
 "nbformat_minor": 2
}
