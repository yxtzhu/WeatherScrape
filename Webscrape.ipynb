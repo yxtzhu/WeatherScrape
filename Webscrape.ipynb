{
 "cells": [
  {
   "cell_type": "markdown",
   "metadata": {},
   "source": [
    "# Toronto Historical Weather Web Scraping\n",
    "This is my first web scraping project."
   ]
  },
  {
   "cell_type": "code",
   "execution_count": 3,
   "metadata": {
    "collapsed": false
   },
   "outputs": [],
   "source": [
    "#Import libraries for webscraping\n",
    "import urllib.request\n",
    "from bs4 import BeautifulSoup\n",
    "#Import libraries for data manipulation and visualization\n",
    "import pandas as pd\n",
    "import numpy as np\n",
    "import matplotlib.pyplot as plt\n",
    "%matplotlib inline"
   ]
  },
  {
   "cell_type": "code",
   "execution_count": 4,
   "metadata": {
    "collapsed": true
   },
   "outputs": [],
   "source": [
    "#Government of Canada Website \n",
    "page = 'http://climate.weather.gc.ca/climate_data/daily_data_e.html?StationID=51459&timeframe=2&StartYear=1840&EndYear=2018&Day=7&Year=2018&Month=1#'\n"
   ]
  },
  {
   "cell_type": "code",
   "execution_count": 5,
   "metadata": {
    "collapsed": false
   },
   "outputs": [],
   "source": [
    "#Query the website\n",
    "f=urllib.request.urlopen(page).read()"
   ]
  },
  {
   "cell_type": "code",
   "execution_count": 6,
   "metadata": {
    "collapsed": false
   },
   "outputs": [],
   "source": [
    "#Parse the page using beautiful soup\n",
    "soup = BeautifulSoup(f, 'html.parser')\n",
    "#un-comment the following line to see the scraped html\n",
    "#print(soup.prettify)"
   ]
  },
  {
   "cell_type": "code",
   "execution_count": 1,
   "metadata": {
    "collapsed": true
   },
   "outputs": [],
   "source": [
    "#Look through the html, it's clear that the year and month are both contained under the a sepcific class name. and we only need the first section of that <div> tag. Let's print the parsed result, and noticed we have successfully isolated the section that contains information on both the year and the month of the data."
   ]
  },
  {
   "cell_type": "code",
   "execution_count": 7,
   "metadata": {
    "collapsed": false
   },
   "outputs": [
    {
     "name": "stdout",
     "output_type": "stream",
     "text": [
      "[<option selected=\"selected\" value=\"2018\">2018</option>, <option selected=\"selected\" value=\"1\">January</option>]\n"
     ]
    }
   ],
   "source": [
    "#Find the section that contains the year and the month\n",
    "option = soup.find_all('div', class_='col-md-6 col-sm-6 col-xs-6 text-center mrgn-tp-md mrgn-bttm-md')\n",
    "option=option[0]\n",
    "option=option.find_all('option', selected=True)\n",
    "print(option)"
   ]
  },
  {
   "cell_type": "code",
   "execution_count": 26,
   "metadata": {
    "collapsed": true
   },
   "outputs": [],
   "source": [
    "#Let's get the year and month values out of the resultSet."
   ]
  },
  {
   "cell_type": "code",
   "execution_count": 8,
   "metadata": {
    "collapsed": false
   },
   "outputs": [
    {
     "name": "stdout",
     "output_type": "stream",
     "text": [
      "2018\n"
     ]
    }
   ],
   "source": [
    "year=option[0]\n",
    "year=year.find(text=True)\n",
    "print(year)"
   ]
  },
  {
   "cell_type": "code",
   "execution_count": 9,
   "metadata": {
    "collapsed": false
   },
   "outputs": [
    {
     "name": "stdout",
     "output_type": "stream",
     "text": [
      "January\n"
     ]
    }
   ],
   "source": [
    "month=option[1]\n",
    "month=month.find(text=True)\n",
    "print(month)"
   ]
  },
  {
   "cell_type": "code",
   "execution_count": 27,
   "metadata": {
    "collapsed": true
   },
   "outputs": [],
   "source": [
    "# Let's find the table that contains all the data. Since there are only one table on this page, we can use soup.find_all('table'). Otherwise we could specify the table name. "
   ]
  },
  {
   "cell_type": "code",
   "execution_count": 10,
   "metadata": {
    "collapsed": false
   },
   "outputs": [],
   "source": [
    "#Find the table\n",
    "#table = soup.find_all('div', class_='table-responsive')\n",
    "table = soup.find_all('table')"
   ]
  },
  {
   "cell_type": "code",
   "execution_count": 28,
   "metadata": {
    "collapsed": true
   },
   "outputs": [],
   "source": [
    "#Parse through the table and extract the column headers. "
   ]
  },
  {
   "cell_type": "code",
   "execution_count": 11,
   "metadata": {
    "collapsed": false
   },
   "outputs": [
    {
     "name": "stdout",
     "output_type": "stream",
     "text": [
      "['Max Temp', 'Min Temp', 'Mean Temp', 'Heat Deg Days', 'Cool Deg Days', 'mm', 'cm', 'Total Precip', 'Snow on Grnd', 'Dir of Max Gust', 'Spd of Max Gust', 'Avg', 'Xtrm']\n"
     ]
    }
   ],
   "source": [
    "th_all = soup.find_all('th')\n",
    "result = []\n",
    "for th in th_all:\n",
    "    result.append(th.find('abbr', text=True))\n",
    "\n",
    "title=[]\n",
    "for abbr in result:\n",
    "    if abbr is not None:\n",
    "        title.append(abbr.string)\n",
    "    \n",
    "print(title)"
   ]
  },
  {
   "cell_type": "code",
   "execution_count": 29,
   "metadata": {
    "collapsed": true
   },
   "outputs": [],
   "source": [
    "#As we can see, there are a couple of values not quite as expect, so let's clean it up a bit. \n",
    "#more specifically, mm is supposed to be Total Rain, and cm is supposed to be Total Snow. We'll leave Avg and Xtrm for now."
   ]
  },
  {
   "cell_type": "code",
   "execution_count": 12,
   "metadata": {
    "collapsed": false
   },
   "outputs": [
    {
     "name": "stdout",
     "output_type": "stream",
     "text": [
      "['Max Temp', 'Min Temp', 'Mean Temp', 'Heat Deg Days', 'Cool Deg Days', 'Total Rain', 'Total Snow', 'Total Precip', 'Snow on Grnd', 'Dir of Max Gust', 'Spd of Max Gust', 'Avg', 'Xtrm']\n"
     ]
    }
   ],
   "source": [
    "#clean up title\n",
    "for i in range(len(title)):\n",
    "    if title[i]=='mm':\n",
    "        title[i]=\"Total Rain\"\n",
    "    elif title[i]=='cm':\n",
    "        title[i]=\"Total Snow\"\n",
    "print(title)"
   ]
  },
  {
   "cell_type": "code",
   "execution_count": 30,
   "metadata": {
    "collapsed": true
   },
   "outputs": [],
   "source": [
    "#Let's grab table row data and put them into an array. We will separate them into data and date."
   ]
  },
  {
   "cell_type": "code",
   "execution_count": 13,
   "metadata": {
    "collapsed": false
   },
   "outputs": [
    {
     "name": "stdout",
     "output_type": "stream",
     "text": [
      "[[], [None, '-8.7', '-21.3', '-15.0', '33.0', '0.0', '0.0', None, None, '11', '28', '54'], [None, '-7.8', '-13.1', '-10.5', '28.5', '0.0', '0.0', '1.0', '1.0', '11', '24', '59'], [None, '-6.3', '-13.5', '-9.9', '27.9', '0.0', '0.0', None, None, '10', '22', '44'], [None, '-8.9', '-20.5', '-14.7', '32.7', '0.0', '0.0', None, None, '9', '32', '65'], [None, '-15.0', '-23.0', '-19.0', '37.0', '0.0', '0.0', None, None, '8', '31', '50'], [None, '-16.4', '-23.5', '-20.0', '38.0', '0.0', '0.0', '0.0', '0.0', '7', '30', '32'], [None, '-2.0', '-20.9', '-11.5', '29.5', '0.0', '0.2', '0.2', '0.4', '7', '22', '52'], [None, '2.2', '-2.6', '-0.2', '18.2', '0.0', '0.6', '4.0', '4.2', '9', '25', '50'], [None, '0.6', '-2.5', '-1.0', '19.0', '0.0', '0.0', None, None, '7', '31', '39'], [None, '6.6', '-4.9', '0.9', '17.1', '0.0', '2.6', '0.0', '2.6', '6', '\\xa0', '<31'], [None, '12.6', '4.5', '8.6', '9.4', '0.0', '7.0', '0.0', '7.0', '2', '21', '37'], [None, '12.2', '-12.6', '-0.2', '18.2', '0.0', '10.2', '3.4', '14.2', '3', '32', '67'], [None, '-11.6', '-16.9', '-14.3', '32.3', '0.0', '0.0', '0.0', '0.0', '3', '34', '61'], [None, '-6.5', '-17.3', '-11.9', '29.9', '0.0', '0.0', '0.0', '0.0', '1', '14', '35'], [None, '-6.5', '-9.0', '-7.8', '25.8', '0.0', '0.0', '4.4', '3.8', '1', '11', '56'], [None, '-3.1', '-10.3', '-6.7', '24.7', '0.0', '0.0', '1.6', '1.4', '5', '\\xa0', '<31'], ['17', '\\xa0', '\\xa0', '\\xa0', '\\xa0', '\\xa0', '\\xa0', '\\xa0', '\\xa0', '\\xa0', '\\xa0', '\\xa0'], ['\\xa0', '\\xa0', '\\xa0', None, None, None, None, None, '\\xa0', '\\xa0', '\\xa0'], [None, None, None, '\\xa0', '\\xa0', '\\xa0', '\\xa0', '\\xa0', '\\xa0', '\\xa0', '\\xa0'], [None, None, '\\xa0', '\\xa0', '\\xa0', '\\xa0', '\\xa0', '\\xa0', '\\xa0', None, None], []]\n"
     ]
    }
   ],
   "source": [
    "table_body = soup.find('tbody')\n",
    "tr = table_body.find_all('tr')\n",
    "td=[]\n",
    "date=[]\n",
    "data=[]\n",
    "for row in tr:\n",
    "    d=[]\n",
    "    for r in row.find_all('td'):\n",
    "        date.append(r.find('abbr'))\n",
    "        d.append(r.string)\n",
    "    data.append(d)\n",
    "print(data)"
   ]
  },
  {
   "cell_type": "code",
   "execution_count": 14,
   "metadata": {
    "collapsed": false
   },
   "outputs": [
    {
     "name": "stdout",
     "output_type": "stream",
     "text": [
      "<class 'bs4.element.Tag'>\n",
      "<class 'list'>\n"
     ]
    }
   ],
   "source": [
    "print(type(date[0])); print(type(data[0]))"
   ]
  },
  {
   "cell_type": "code",
   "execution_count": 33,
   "metadata": {
    "collapsed": true
   },
   "outputs": [],
   "source": [
    "#Notice that elements of data are lists as desired, but elements of date are tags. Let's clean up date arrays, \n",
    "#and change them from string to datetime values."
   ]
  },
  {
   "cell_type": "code",
   "execution_count": 15,
   "metadata": {
    "collapsed": false
   },
   "outputs": [
    {
     "name": "stdout",
     "output_type": "stream",
     "text": [
      "['January 1, 2018', 'January 2, 2018', 'January 3, 2018', 'January 4, 2018', 'January 5, 2018', 'January 6, 2018', 'January 7, 2018', 'January 8, 2018', 'January 9, 2018', 'January 10, 2018', 'January 11, 2018', 'January 12, 2018', 'January 13, 2018', 'January 14, 2018', 'January 15, 2018', 'January 16, 2018']\n"
     ]
    }
   ],
   "source": [
    "#clean date arrays\n",
    "t=[]\n",
    "for d in date:\n",
    "  if d is not None:\n",
    "    t.append(d.get('title'))\n",
    "print(t)"
   ]
  },
  {
   "cell_type": "code",
   "execution_count": 16,
   "metadata": {
    "collapsed": false
   },
   "outputs": [
    {
     "name": "stdout",
     "output_type": "stream",
     "text": [
      "[datetime.datetime(2018, 1, 1, 0, 0), datetime.datetime(2018, 1, 2, 0, 0), datetime.datetime(2018, 1, 3, 0, 0), datetime.datetime(2018, 1, 4, 0, 0), datetime.datetime(2018, 1, 5, 0, 0), datetime.datetime(2018, 1, 6, 0, 0), datetime.datetime(2018, 1, 7, 0, 0), datetime.datetime(2018, 1, 8, 0, 0), datetime.datetime(2018, 1, 9, 0, 0), datetime.datetime(2018, 1, 10, 0, 0), datetime.datetime(2018, 1, 11, 0, 0), datetime.datetime(2018, 1, 12, 0, 0), datetime.datetime(2018, 1, 13, 0, 0), datetime.datetime(2018, 1, 14, 0, 0), datetime.datetime(2018, 1, 15, 0, 0), datetime.datetime(2018, 1, 16, 0, 0)]\n"
     ]
    }
   ],
   "source": [
    "from datetime import datetime\n",
    "date=[]\n",
    "for j in t:\n",
    "    date.append(datetime.strptime(j, '%B %d, %Y'))\n",
    "print(date)"
   ]
  },
  {
   "cell_type": "code",
   "execution_count": 35,
   "metadata": {
    "collapsed": true
   },
   "outputs": [],
   "source": [
    "#Let's clean up the scarped data by removing any empty elements, and remove the extra rows that contains mainly \n",
    "#None values."
   ]
  },
  {
   "cell_type": "code",
   "execution_count": 17,
   "metadata": {
    "collapsed": false
   },
   "outputs": [
    {
     "name": "stdout",
     "output_type": "stream",
     "text": [
      "[['-8.7', '-21.3', '-15.0', '33.0', '0.0', '0.0', None, None, '11', '28', '54'], ['-7.8', '-13.1', '-10.5', '28.5', '0.0', '0.0', '1.0', '1.0', '11', '24', '59'], ['-6.3', '-13.5', '-9.9', '27.9', '0.0', '0.0', None, None, '10', '22', '44'], ['-8.9', '-20.5', '-14.7', '32.7', '0.0', '0.0', None, None, '9', '32', '65'], ['-15.0', '-23.0', '-19.0', '37.0', '0.0', '0.0', None, None, '8', '31', '50'], ['-16.4', '-23.5', '-20.0', '38.0', '0.0', '0.0', '0.0', '0.0', '7', '30', '32'], ['-2.0', '-20.9', '-11.5', '29.5', '0.0', '0.2', '0.2', '0.4', '7', '22', '52'], ['2.2', '-2.6', '-0.2', '18.2', '0.0', '0.6', '4.0', '4.2', '9', '25', '50'], ['0.6', '-2.5', '-1.0', '19.0', '0.0', '0.0', None, None, '7', '31', '39'], ['6.6', '-4.9', '0.9', '17.1', '0.0', '2.6', '0.0', '2.6', '6', '\\xa0', '<31'], ['12.6', '4.5', '8.6', '9.4', '0.0', '7.0', '0.0', '7.0', '2', '21', '37'], ['12.2', '-12.6', '-0.2', '18.2', '0.0', '10.2', '3.4', '14.2', '3', '32', '67'], ['-11.6', '-16.9', '-14.3', '32.3', '0.0', '0.0', '0.0', '0.0', '3', '34', '61'], ['-6.5', '-17.3', '-11.9', '29.9', '0.0', '0.0', '0.0', '0.0', '1', '14', '35'], ['-6.5', '-9.0', '-7.8', '25.8', '0.0', '0.0', '4.4', '3.8', '1', '11', '56'], ['-3.1', '-10.3', '-6.7', '24.7', '0.0', '0.0', '1.6', '1.4', '5', '\\xa0', '<31']]\n"
     ]
    }
   ],
   "source": [
    "#clean up data array\n",
    "for entry in data:\n",
    "    if entry == []:\n",
    "        data.remove(entry)\n",
    "\n",
    "for entry in data:\n",
    "    if len(entry)>11:\n",
    "        entry.pop(0)\n",
    "\n",
    "#There should be as many rows as the number dates\n",
    "for rm in range(len(data)-len(date)):\n",
    "    data.pop(len(data)-1)\n",
    "    rm -=1\n",
    "print(data)"
   ]
  },
  {
   "cell_type": "code",
   "execution_count": 36,
   "metadata": {
    "collapsed": true
   },
   "outputs": [],
   "source": [
    "#Remember we left some extra headers in title? let's get rid of those."
   ]
  },
  {
   "cell_type": "code",
   "execution_count": 18,
   "metadata": {
    "collapsed": false
   },
   "outputs": [
    {
     "name": "stdout",
     "output_type": "stream",
     "text": [
      "['Max Temp', 'Min Temp', 'Mean Temp', 'Heat Deg Days', 'Cool Deg Days', 'Total Rain', 'Total Snow', 'Total Precip', 'Snow on Grnd', 'Dir of Max Gust', 'Spd of Max Gust']\n"
     ]
    }
   ],
   "source": [
    "for rm in range(len(title)-len(data[0])):\n",
    "    title.pop(len(title)-1)\n",
    "    rm-=1\n",
    "print(title)"
   ]
  },
  {
   "cell_type": "code",
   "execution_count": 37,
   "metadata": {
    "collapsed": true
   },
   "outputs": [],
   "source": [
    "#Use Pandas, let's put everything together into a dataframe. notice that we the data are shifted"
   ]
  },
  {
   "cell_type": "code",
   "execution_count": 19,
   "metadata": {
    "collapsed": false
   },
   "outputs": [
    {
     "name": "stdout",
     "output_type": "stream",
     "text": [
      "<class 'bs4.element.NavigableString'>\n"
     ]
    }
   ],
   "source": [
    "#Construct dataframe for scraped data\n",
    "df = pd.DataFrame(data=data,index=date,columns=title)\n",
    "print(type(df.iloc[0][0]))"
   ]
  },
  {
   "cell_type": "code",
   "execution_count": 38,
   "metadata": {
    "collapsed": true
   },
   "outputs": [],
   "source": [
    "#Notice that the values are in string format. so let's rebuild this dataframe. "
   ]
  },
  {
   "cell_type": "code",
   "execution_count": 20,
   "metadata": {
    "collapsed": false
   },
   "outputs": [
    {
     "data": {
      "text/plain": [
       "Max Temp           float64\n",
       "Min Temp           float64\n",
       "Mean Temp          float64\n",
       "Heat Deg Days      float64\n",
       "Cool Deg Days      float64\n",
       "Total Rain         float64\n",
       "Total Snow         float64\n",
       "Total Precip       float64\n",
       "Snow on Grnd         int64\n",
       "Dir of Max Gust    float64\n",
       "Spd of Max Gust    float64\n",
       "dtype: object"
      ]
     },
     "execution_count": 20,
     "metadata": {},
     "output_type": "execute_result"
    }
   ],
   "source": [
    "df=df.apply(pd.to_numeric, errors=\"coerce\")\n",
    "df.dtypes"
   ]
  },
  {
   "cell_type": "code",
   "execution_count": 39,
   "metadata": {
    "collapsed": true
   },
   "outputs": [],
   "source": [
    "#Yes!! it's in float64, now we're good. let's print df and plot it"
   ]
  },
  {
   "cell_type": "code",
   "execution_count": 21,
   "metadata": {
    "collapsed": false
   },
   "outputs": [
    {
     "name": "stdout",
     "output_type": "stream",
     "text": [
      "            Max Temp  Min Temp  Mean Temp  Heat Deg Days  Cool Deg Days  \\\n",
      "2018-01-01      -8.7     -21.3      -15.0           33.0            0.0   \n",
      "2018-01-02      -7.8     -13.1      -10.5           28.5            0.0   \n",
      "2018-01-03      -6.3     -13.5       -9.9           27.9            0.0   \n",
      "2018-01-04      -8.9     -20.5      -14.7           32.7            0.0   \n",
      "2018-01-05     -15.0     -23.0      -19.0           37.0            0.0   \n",
      "2018-01-06     -16.4     -23.5      -20.0           38.0            0.0   \n",
      "2018-01-07      -2.0     -20.9      -11.5           29.5            0.0   \n",
      "2018-01-08       2.2      -2.6       -0.2           18.2            0.0   \n",
      "2018-01-09       0.6      -2.5       -1.0           19.0            0.0   \n",
      "2018-01-10       6.6      -4.9        0.9           17.1            0.0   \n",
      "2018-01-11      12.6       4.5        8.6            9.4            0.0   \n",
      "2018-01-12      12.2     -12.6       -0.2           18.2            0.0   \n",
      "2018-01-13     -11.6     -16.9      -14.3           32.3            0.0   \n",
      "2018-01-14      -6.5     -17.3      -11.9           29.9            0.0   \n",
      "2018-01-15      -6.5      -9.0       -7.8           25.8            0.0   \n",
      "2018-01-16      -3.1     -10.3       -6.7           24.7            0.0   \n",
      "\n",
      "            Total Rain  Total Snow  Total Precip  Snow on Grnd  \\\n",
      "2018-01-01         0.0         NaN           NaN            11   \n",
      "2018-01-02         0.0         1.0           1.0            11   \n",
      "2018-01-03         0.0         NaN           NaN            10   \n",
      "2018-01-04         0.0         NaN           NaN             9   \n",
      "2018-01-05         0.0         NaN           NaN             8   \n",
      "2018-01-06         0.0         0.0           0.0             7   \n",
      "2018-01-07         0.2         0.2           0.4             7   \n",
      "2018-01-08         0.6         4.0           4.2             9   \n",
      "2018-01-09         0.0         NaN           NaN             7   \n",
      "2018-01-10         2.6         0.0           2.6             6   \n",
      "2018-01-11         7.0         0.0           7.0             2   \n",
      "2018-01-12        10.2         3.4          14.2             3   \n",
      "2018-01-13         0.0         0.0           0.0             3   \n",
      "2018-01-14         0.0         0.0           0.0             1   \n",
      "2018-01-15         0.0         4.4           3.8             1   \n",
      "2018-01-16         0.0         1.6           1.4             5   \n",
      "\n",
      "            Dir of Max Gust  Spd of Max Gust  \n",
      "2018-01-01             28.0             54.0  \n",
      "2018-01-02             24.0             59.0  \n",
      "2018-01-03             22.0             44.0  \n",
      "2018-01-04             32.0             65.0  \n",
      "2018-01-05             31.0             50.0  \n",
      "2018-01-06             30.0             32.0  \n",
      "2018-01-07             22.0             52.0  \n",
      "2018-01-08             25.0             50.0  \n",
      "2018-01-09             31.0             39.0  \n",
      "2018-01-10              NaN              NaN  \n",
      "2018-01-11             21.0             37.0  \n",
      "2018-01-12             32.0             67.0  \n",
      "2018-01-13             34.0             61.0  \n",
      "2018-01-14             14.0             35.0  \n",
      "2018-01-15             11.0             56.0  \n",
      "2018-01-16              NaN              NaN  \n"
     ]
    }
   ],
   "source": [
    "print(df)"
   ]
  },
  {
   "cell_type": "code",
   "execution_count": 22,
   "metadata": {
    "collapsed": false
   },
   "outputs": [
    {
     "data": {
      "image/png": "[encoded data removed]",
      "text/plain": [
       "<matplotlib.figure.Figure at 0x1235f3b38>"
      ]
     },
     "metadata": {},
     "output_type": "display_data"
    }
   ],
   "source": [
    "plt.figure(figsize=(20, 5)); plt.plot(df);plt.legend(title);plt.title('Toronto Weather Data Jan 2018');"
   ]
  },
  {
   "cell_type": "code",
   "execution_count": 40,
   "metadata": {
    "collapsed": true
   },
   "outputs": [],
   "source": [
    "#That looks a bit messy. Let's only plot Max Temp and Min Temp in a bar chart."
   ]
  },
  {
   "cell_type": "code",
   "execution_count": 23,
   "metadata": {
    "collapsed": false
   },
   "outputs": [
    {
     "data": {
      "text/plain": [
       "<matplotlib.figure.Figure at 0x12380b710>"
      ]
     },
     "metadata": {},
     "output_type": "display_data"
    },
    {
     "data": {
      "image/png": "[encoded data removed]",
      "text/plain": [
       "<matplotlib.figure.Figure at 0x1260a5ef0>"
      ]
     },
     "metadata": {},
     "output_type": "display_data"
    }
   ],
   "source": [
    "plt.figure(figsize=(10, 5)); df.plot(y=['Max Temp', 'Min Temp'],use_index=True, kind='bar'); \n",
    "plt.legend(title);plt.title('Toronto Weather Data Jan 2018');"
   ]
  },
  {
   "cell_type": "code",
   "execution_count": 41,
   "metadata": {
    "collapsed": true
   },
   "outputs": [],
   "source": [
    "#Let's try some interactive plots"
   ]
  },
  {
   "cell_type": "code",
   "execution_count": 24,
   "metadata": {
    "collapsed": false
   },
   "outputs": [
    {
     "data": {
      "text/html": [
       "<script>requirejs.config({paths: { 'plotly': ['https://cdn.plot.ly/plotly-latest.min']},});if(!window.Plotly) {{require(['plotly'],function(plotly) {window.Plotly=plotly;});}}</script>"
      ],
      "text/vnd.plotly.v1+html": [
       "<script>requirejs.config({paths: { 'plotly': ['https://cdn.plot.ly/plotly-latest.min']},});if(!window.Plotly) {{require(['plotly'],function(plotly) {window.Plotly=plotly;});}}</script>"
      ]
     },
     "metadata": {},
     "output_type": "display_data"
    }
   ],
   "source": [
    "import plotly.plotly as py\n",
    "from plotly.offline import download_plotlyjs, init_notebook_mode, plot, iplot\n",
    "from plotly.graph_objs import Scatter, Figure, Layout\n",
    "import plotly.graph_objs as go\n",
    "init_notebook_mode(connected=True)"
   ]
  },
  {
   "cell_type": "code",
   "execution_count": 25,
   "metadata": {
    "collapsed": false
   },
   "outputs": [
    {
     "data": {
      "text/html": [
       "<iframe id=\"igraph\" scrolling=\"no\" style=\"border:none;\" seamless=\"seamless\" src=\"https://plot.ly/~yxtzhu/8.embed\" height=\"525px\" width=\"100%\"></iframe>"
      ],
      "text/plain": [
       "<plotly.tools.PlotlyDisplay object>"
      ]
     },
     "execution_count": 25,
     "metadata": {},
     "output_type": "execute_result"
    }
   ],
   "source": [
    "trace1 = go.Bar(\n",
    "    x=df.index,\n",
    "    y=df['Max Temp'],\n",
    "    name='Max Temp',\n",
    "    marker=dict(\n",
    "        color='rgb(158,202,225)',\n",
    "        line=dict(\n",
    "            color='rgb(8,48,107)',\n",
    "            width=1.5,\n",
    "        )\n",
    "    ),\n",
    "    opacity=0.6\n",
    ")\n",
    "trace2 = go.Bar(\n",
    "    x=df.index,\n",
    "    y=df['Min Temp'],\n",
    "    name='Min Temp',\n",
    "    marker=dict(\n",
    "        color='rgb(178,255,102)',\n",
    "        line=dict(\n",
    "            color='rgb(76,153,0)',\n",
    "            width=1.5,\n",
    "        )\n",
    "    ),\n",
    "    opacity=0.6\n",
    ")\n",
    "\n",
    "trace3 = go.Scatter(\n",
    "    x = df.index,\n",
    "    y = df['Mean Temp'],\n",
    "    name='Mean Temp',\n",
    "    line = dict(\n",
    "        color = ('rgb(255, 175, 102)'),\n",
    "        width = 4,\n",
    "        dash = 'dot')\n",
    ")\n",
    "data = [trace1, trace2, trace3]\n",
    "layout = go.Layout(\n",
    "    title = 'Toronto Weather Data Jan 2018'\n",
    ")\n",
    "\n",
    "fig = go.Figure(data=data, layout=layout)\n",
    "py.iplot(fig, filename='WeatherScrape')"
   ]
  }
 ],
 "metadata": {
  "anaconda-cloud": {},
  "kernelspec": {
   "display_name": "Python [Root]",
   "language": "python",
   "name": "Python [Root]"
  },
  "language_info": {
   "codemirror_mode": {
    "name": "ipython",
    "version": 3
   },
   "file_extension": ".py",
   "mimetype": "text/x-python",
   "name": "python",
   "nbconvert_exporter": "python",
   "pygments_lexer": "ipython3",
   "version": "3.5.2"
  }
 },
 "nbformat": 4,
 "nbformat_minor": 2
}
