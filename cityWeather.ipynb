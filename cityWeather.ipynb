{
 "cells": [
  {
   "cell_type": "markdown",
   "metadata": {},
   "source": [
    "# If there exists only ONE Canadian, what climate does THE Canadian experience?"
   ]
  },
  {
   "cell_type": "markdown",
   "metadata": {},
   "source": [
    "Canada has quite a bit of land, but the majority of us live compactly in major cities. Suppose the entire Canadian population is projected on to one individual, what climate does this individual experience throughout the year?\n",
    "\n",
    "To answer this question, I need data on: \n",
    "* Canadian population size for different cities\n",
    "* Daily climate data for different cities\n",
    "\n",
    "Assumptions: \n",
    "\n",
    "Simplification - To simplify the process, I decided to use the top 20 cities out of the top 100 most populated cities in Canada. Which sums up to roughly 80% of the total of the 100 cities.\n",
    "\n",
    "Data Collection - Since I can't find any clean climate data by city, each city climate data are scraped separately. Notice that the url(s) contain a station ID. I explored historical climate data on the Government of Canada website and grabbed the station IDs with the most reliable data. \n",
    "\n",
    "Missing Values - Some days have missing values, which is a problem when I'm trying to perform dot product later on. To solve this problem, the missing data are filled in using interpolation method.\n",
    "\n",
    "In Complete Data - Since I can't find enough data for the city St. Catharines, it is dropped from the result and replaced by the runner up city in terms of population size\n",
    "\n",
    "Scraping Function:\n",
    "\n",
    "The scraping function ScrapeWeather() used in this file was developed in my previous project, where the development in this basic function for a single web-page is explained in detial. \n",
    "URL: http://nbviewer.jupyter.org/github/yxtzhu/WeatherScrape/blob/master/Webscrape.ipynb"
   ]
  },
  {
   "cell_type": "code",
   "execution_count": 2,
   "metadata": {
    "collapsed": false
   },
   "outputs": [],
   "source": [
    "# Import libraries for webscraping\n",
    "\n",
    "import urllib.request\n",
    "from bs4 import BeautifulSoup\n",
    "\n",
    "# Import libraries for data manipulation and visualization\n",
    "import pandas as pd\n",
    "import numpy as np\n",
    "import matplotlib.pyplot as plt\n",
    "%matplotlib inline\n",
    "\n",
    "# Import datetime\n",
    "from datetime import datetime"
   ]
  },
  {
   "cell_type": "code",
   "execution_count": 186,
   "metadata": {
    "collapsed": false
   },
   "outputs": [],
   "source": [
    "# Function used to scrape a single site from the Government of Canada\n",
    "\n",
    "def ScrapeWeather(page):\n",
    "    \n",
    "    # Query the website\n",
    "    f=urllib.request.urlopen(page).read()\n",
    "    \n",
    "    # Parse the page using beautiful soup\n",
    "    soup = BeautifulSoup(f, 'html.parser')\n",
    "    \n",
    "    # Find the section that contains the year and the month\n",
    "    option = soup.find_all('div', class_='col-md-6 col-sm-6 col-xs-6 text-center mrgn-tp-md mrgn-bttm-md')\n",
    "    option=option[0]\n",
    "    option=option.find_all('option', selected=True)\n",
    "    \n",
    "    # Find the table\n",
    "    table = soup.find_all('table')\n",
    "    \n",
    "    # Find title\n",
    "    th_all = soup.find_all('th')\n",
    "    result = []\n",
    "    for th in th_all:\n",
    "        result.append(th.find('abbr', text=True))\n",
    "\n",
    "    title=[]\n",
    "    for abbr in result:\n",
    "        if abbr is not None:\n",
    "            title.append(abbr.string)\n",
    "            \n",
    "    # clean up title\n",
    "    for i in range(len(title)):\n",
    "        if title[i]=='mm':\n",
    "            title[i]=\"Total Rain\"\n",
    "        elif title[i]=='cm':\n",
    "            title[i]=\"Total Snow\"\n",
    "    \n",
    "    # Find data\n",
    "    table_body = soup.find('tbody')\n",
    "    tr = table_body.find_all('tr')\n",
    "    td=[]\n",
    "    date=[]\n",
    "    data=[]\n",
    "    for row in tr:\n",
    "        d=[]\n",
    "        for r in row.find_all('td'):\n",
    "            date.append(r.find('abbr'))\n",
    "            d.append(r.string)\n",
    "        data.append(d)\n",
    "    \n",
    "    # clean date arrays\n",
    "    t=[]\n",
    "    for d in date:\n",
    "        if d is not None:\n",
    "            t.append(d.get('title'))\n",
    "    \n",
    "    date=[]\n",
    "    for j in t:\n",
    "        date.append(datetime.strptime(j, '%B %d, %Y'))\n",
    "\n",
    "    # clean up data array\n",
    "    for entry in data:\n",
    "        if entry == []:\n",
    "            data.remove(entry)\n",
    "\n",
    "    for entry in data:\n",
    "        if len(entry)>11:\n",
    "            entry.pop(0)\n",
    "\n",
    "    # There should be as many rows as the number dates\n",
    "    for rm in range(len(data)-len(date)):\n",
    "        data.pop(len(data)-1)\n",
    "        rm -=1\n",
    "    \n",
    "    for rm in range(len(title)-len(data[0])):\n",
    "        title.pop(len(title)-1)\n",
    "        rm-=1\n",
    "    \n",
    "    # Construct dataframe for scraped data\n",
    "    df = pd.DataFrame(data=data,index=date,columns=title)\n",
    "    df=df.apply(pd.to_numeric, errors=\"coerce\")\n",
    "    \n",
    "    # Return the result\n",
    "    return df"
   ]
  },
  {
   "cell_type": "code",
   "execution_count": 180,
   "metadata": {
    "collapsed": true
   },
   "outputs": [],
   "source": [
    "# Get Mean Temp from dataframe\n",
    "def getMean(df):\n",
    "    Mmean=df[\"Mean Temp\"]\n",
    "    return Mmean"
   ]
  },
  {
   "cell_type": "code",
   "execution_count": 181,
   "metadata": {
    "collapsed": false
   },
   "outputs": [],
   "source": [
    "# Get Max Temp from dataframe\n",
    "def getMax(df):\n",
    "    Mmax=df['Max Temp']\n",
    "    return Mmax"
   ]
  },
  {
   "cell_type": "code",
   "execution_count": 182,
   "metadata": {
    "collapsed": true
   },
   "outputs": [],
   "source": [
    "# Get Min Temp from dataframe\n",
    "def getMin(df):    \n",
    "    Mmin=df['Min Temp']\n",
    "    return Mmin"
   ]
  },
  {
   "cell_type": "code",
   "execution_count": 183,
   "metadata": {
    "collapsed": true
   },
   "outputs": [],
   "source": [
    "# Get index from dataframe\n",
    "def getInex(df):\n",
    "    Mindex=df.index[0]\n",
    "    return Mindex"
   ]
  },
  {
   "cell_type": "code",
   "execution_count": null,
   "metadata": {
    "collapsed": true
   },
   "outputs": [],
   "source": [
    "# Wikipedia has a nice table with Canadian population size by city"
   ]
  },
  {
   "cell_type": "code",
   "execution_count": 184,
   "metadata": {
    "collapsed": false
   },
   "outputs": [],
   "source": [
    "# Get population data by Canadian cities for the year of 2016\n",
    "p='https://en.wikipedia.org/wiki/List_of_the_100_largest_population_centres_in_Canada'\n",
    "f=urllib.request.urlopen(p).read()"
   ]
  },
  {
   "cell_type": "code",
   "execution_count": 185,
   "metadata": {
    "collapsed": true
   },
   "outputs": [],
   "source": [
    "# Parse the page using beautiful soup\n",
    "soup = BeautifulSoup(f, 'html.parser')\n",
    "    \n",
    "# Find the table\n",
    "table = soup.find_all('table')"
   ]
  },
  {
   "cell_type": "code",
   "execution_count": 11,
   "metadata": {
    "collapsed": false
   },
   "outputs": [],
   "source": [
    "# Find table rows\n",
    "tr = table[0].find_all('tr')"
   ]
  },
  {
   "cell_type": "code",
   "execution_count": 187,
   "metadata": {
    "collapsed": false
   },
   "outputs": [
    {
     "name": "stdout",
     "output_type": "stream",
     "text": [
      "100\n"
     ]
    }
   ],
   "source": [
    "# Going through the table with top 100 cities, and grab city name and population size\n",
    "td=[]\n",
    "city=[]\n",
    "data=[]\n",
    "for row in tr:\n",
    "    d=[]\n",
    "    #print(row.find_all('a').string)\n",
    "    for r in row.find_all('td'):\n",
    "        c=row.find('a').string\n",
    "        if not c in city: \n",
    "            city.append(c)\n",
    "        d.append(r.string)\n",
    "    data.append(d)\n",
    "\n",
    "# We should have all 100 cities in the result\n",
    "print(len(city))"
   ]
  },
  {
   "cell_type": "code",
   "execution_count": 188,
   "metadata": {
    "collapsed": false
   },
   "outputs": [
    {
     "name": "stdout",
     "output_type": "stream",
     "text": [
      "['Rank', 'Population centre', 'Population in 2016', 'Population in 2011', 'Class']\n"
     ]
    }
   ],
   "source": [
    "# Get headers of the table\n",
    "header=[]\n",
    "for h in tr[0].find_all('th'):\n",
    "    header.append(h.string)\n",
    "    \n",
    "# Check headers\n",
    "print(header)"
   ]
  },
  {
   "cell_type": "code",
   "execution_count": 189,
   "metadata": {
    "collapsed": false
   },
   "outputs": [
    {
     "name": "stdout",
     "output_type": "stream",
     "text": [
      "100\n"
     ]
    }
   ],
   "source": [
    "# Clean up scraped data by removing empty results\n",
    "for entry in data:\n",
    "    if entry == []:\n",
    "        data.remove(entry)\n",
    "\n",
    "# Make sure we still have 100 entries\n",
    "print(len(data))"
   ]
  },
  {
   "cell_type": "code",
   "execution_count": 190,
   "metadata": {
    "collapsed": false
   },
   "outputs": [],
   "source": [
    "# Piece everything together into a dataframe, and drop the columns I don't need\n",
    "cityframe=pd.DataFrame(data=data,index=city,columns=header)\n",
    "cityframe=cityframe.drop(['Rank','Class','Population centre', 'Population in 2011'], axis=1)\n",
    "\n",
    "# Notice that the numerical data are comma delimited strings, remove commas so we can convert it into numbers \n",
    "cityframe['Population in 2016'] = cityframe['Population in 2016'].str.replace(',', '')"
   ]
  },
  {
   "cell_type": "code",
   "execution_count": 191,
   "metadata": {
    "collapsed": false
   },
   "outputs": [
    {
     "name": "stdout",
     "output_type": "stream",
     "text": [
      "0.696081882518\n"
     ]
    }
   ],
   "source": [
    "# Convert data into numeric values and check the total Canadian population size in 2016 for the top 100 cities\n",
    "cityframe=cityframe.apply(pd.to_numeric, errors=\"ignore\")\n",
    "totalpop=sum(cityframe['Population in 2016'])\n",
    "print(totalpop/35151728)"
   ]
  },
  {
   "cell_type": "code",
   "execution_count": 192,
   "metadata": {
    "collapsed": false
   },
   "outputs": [
    {
     "data": {
      "text/html": [
       "<div>\n",
       "<table border=\"1\" class=\"dataframe\">\n",
       "  <thead>\n",
       "    <tr style=\"text-align: right;\">\n",
       "      <th></th>\n",
       "      <th>Population in 2016</th>\n",
       "    </tr>\n",
       "  </thead>\n",
       "  <tbody>\n",
       "    <tr>\n",
       "      <th>Toronto</th>\n",
       "      <td>0.221899</td>\n",
       "    </tr>\n",
       "    <tr>\n",
       "      <th>Montreal</th>\n",
       "      <td>0.143842</td>\n",
       "    </tr>\n",
       "    <tr>\n",
       "      <th>Vancouver</th>\n",
       "      <td>0.092561</td>\n",
       "    </tr>\n",
       "    <tr>\n",
       "      <th>Calgary</th>\n",
       "      <td>0.050582</td>\n",
       "    </tr>\n",
       "    <tr>\n",
       "      <th>Edmonton</th>\n",
       "      <td>0.043429</td>\n",
       "    </tr>\n",
       "    <tr>\n",
       "      <th>Ottawa</th>\n",
       "      <td>0.040446</td>\n",
       "    </tr>\n",
       "    <tr>\n",
       "      <th>Winnipeg</th>\n",
       "      <td>0.029096</td>\n",
       "    </tr>\n",
       "    <tr>\n",
       "      <th>Quebec City</th>\n",
       "      <td>0.028817</td>\n",
       "    </tr>\n",
       "    <tr>\n",
       "      <th>Hamilton</th>\n",
       "      <td>0.028349</td>\n",
       "    </tr>\n",
       "    <tr>\n",
       "      <th>Kitchener</th>\n",
       "      <td>0.019209</td>\n",
       "    </tr>\n",
       "    <tr>\n",
       "      <th>London</th>\n",
       "      <td>0.015671</td>\n",
       "    </tr>\n",
       "    <tr>\n",
       "      <th>Victoria</th>\n",
       "      <td>0.013720</td>\n",
       "    </tr>\n",
       "    <tr>\n",
       "      <th>Halifax</th>\n",
       "      <td>0.012943</td>\n",
       "    </tr>\n",
       "    <tr>\n",
       "      <th>Oshawa</th>\n",
       "      <td>0.012623</td>\n",
       "    </tr>\n",
       "    <tr>\n",
       "      <th>Windsor</th>\n",
       "      <td>0.011732</td>\n",
       "    </tr>\n",
       "    <tr>\n",
       "      <th>Saskatoon</th>\n",
       "      <td>0.010020</td>\n",
       "    </tr>\n",
       "    <tr>\n",
       "      <th>St. Catharines</th>\n",
       "      <td>0.009369</td>\n",
       "    </tr>\n",
       "    <tr>\n",
       "      <th>Regina</th>\n",
       "      <td>0.008772</td>\n",
       "    </tr>\n",
       "    <tr>\n",
       "      <th>St. John's</th>\n",
       "      <td>0.007292</td>\n",
       "    </tr>\n",
       "    <tr>\n",
       "      <th>Kelowna</th>\n",
       "      <td>0.006210</td>\n",
       "    </tr>\n",
       "  </tbody>\n",
       "</table>\n",
       "</div>"
      ],
      "text/plain": [
       "                Population in 2016\n",
       "Toronto                   0.221899\n",
       "Montreal                  0.143842\n",
       "Vancouver                 0.092561\n",
       "Calgary                   0.050582\n",
       "Edmonton                  0.043429\n",
       "Ottawa                    0.040446\n",
       "Winnipeg                  0.029096\n",
       "Quebec City               0.028817\n",
       "Hamilton                  0.028349\n",
       "Kitchener                 0.019209\n",
       "London                    0.015671\n",
       "Victoria                  0.013720\n",
       "Halifax                   0.012943\n",
       "Oshawa                    0.012623\n",
       "Windsor                   0.011732\n",
       "Saskatoon                 0.010020\n",
       "St. Catharines            0.009369\n",
       "Regina                    0.008772\n",
       "St. John's                0.007292\n",
       "Kelowna                   0.006210"
      ]
     },
     "execution_count": 192,
     "metadata": {},
     "output_type": "execute_result"
    }
   ],
   "source": [
    "# Calculate percentage of each entry per table and display the top 20 \n",
    "cityframe.apply(lambda x: x / float(x.sum())).head(n=20)"
   ]
  },
  {
   "cell_type": "code",
   "execution_count": 193,
   "metadata": {
    "collapsed": false
   },
   "outputs": [
    {
     "data": {
      "text/plain": [
       "Population in 2016    0.806581\n",
       "dtype: float64"
      ]
     },
     "execution_count": 193,
     "metadata": {},
     "output_type": "execute_result"
    }
   ],
   "source": [
    "# What percentage of the top 100 cities does the top 20 cities represent?\n",
    "cityframe.apply(lambda x: x / float(x.sum())).head(n=20).sum()"
   ]
  },
  {
   "cell_type": "code",
   "execution_count": 194,
   "metadata": {
    "collapsed": true
   },
   "outputs": [],
   "source": [
    "# Build a list of station ids for each of the top 20 cities\n",
    "# This is manual since I didn't find a list with all the station IDs mapped to the city names\n",
    "stations=[51459,51157,51442,50430,50149,49568,27174,26892,49908,48569,50093,51337,50620,48649,52838,47707,53000,28011,50089,51117]"
   ]
  },
  {
   "cell_type": "code",
   "execution_count": 195,
   "metadata": {
    "collapsed": false
   },
   "outputs": [
    {
     "name": "stdout",
     "output_type": "stream",
     "text": [
      "20\n"
     ]
    }
   ],
   "source": [
    "# Make sure I got the station ID for all top 20\n",
    "print(len(stations))"
   ]
  },
  {
   "cell_type": "code",
   "execution_count": 196,
   "metadata": {
    "collapsed": false
   },
   "outputs": [
    {
     "data": {
      "text/html": [
       "<div>\n",
       "<table border=\"1\" class=\"dataframe\">\n",
       "  <thead>\n",
       "    <tr style=\"text-align: right;\">\n",
       "      <th></th>\n",
       "      <th>Population in 2016</th>\n",
       "    </tr>\n",
       "  </thead>\n",
       "  <tbody>\n",
       "    <tr>\n",
       "      <th>Toronto</th>\n",
       "      <td>0.221899</td>\n",
       "    </tr>\n",
       "    <tr>\n",
       "      <th>Montreal</th>\n",
       "      <td>0.143842</td>\n",
       "    </tr>\n",
       "    <tr>\n",
       "      <th>Vancouver</th>\n",
       "      <td>0.092561</td>\n",
       "    </tr>\n",
       "    <tr>\n",
       "      <th>Calgary</th>\n",
       "      <td>0.050582</td>\n",
       "    </tr>\n",
       "    <tr>\n",
       "      <th>Edmonton</th>\n",
       "      <td>0.043429</td>\n",
       "    </tr>\n",
       "    <tr>\n",
       "      <th>Ottawa</th>\n",
       "      <td>0.040446</td>\n",
       "    </tr>\n",
       "    <tr>\n",
       "      <th>Winnipeg</th>\n",
       "      <td>0.029096</td>\n",
       "    </tr>\n",
       "    <tr>\n",
       "      <th>Quebec City</th>\n",
       "      <td>0.028817</td>\n",
       "    </tr>\n",
       "    <tr>\n",
       "      <th>Hamilton</th>\n",
       "      <td>0.028349</td>\n",
       "    </tr>\n",
       "    <tr>\n",
       "      <th>Kitchener</th>\n",
       "      <td>0.019209</td>\n",
       "    </tr>\n",
       "    <tr>\n",
       "      <th>London</th>\n",
       "      <td>0.015671</td>\n",
       "    </tr>\n",
       "    <tr>\n",
       "      <th>Victoria</th>\n",
       "      <td>0.013720</td>\n",
       "    </tr>\n",
       "    <tr>\n",
       "      <th>Halifax</th>\n",
       "      <td>0.012943</td>\n",
       "    </tr>\n",
       "    <tr>\n",
       "      <th>Oshawa</th>\n",
       "      <td>0.012623</td>\n",
       "    </tr>\n",
       "    <tr>\n",
       "      <th>Windsor</th>\n",
       "      <td>0.011732</td>\n",
       "    </tr>\n",
       "    <tr>\n",
       "      <th>Saskatoon</th>\n",
       "      <td>0.010020</td>\n",
       "    </tr>\n",
       "    <tr>\n",
       "      <th>St. Catharines</th>\n",
       "      <td>0.009369</td>\n",
       "    </tr>\n",
       "    <tr>\n",
       "      <th>Regina</th>\n",
       "      <td>0.008772</td>\n",
       "    </tr>\n",
       "    <tr>\n",
       "      <th>St. John's</th>\n",
       "      <td>0.007292</td>\n",
       "    </tr>\n",
       "    <tr>\n",
       "      <th>Kelowna</th>\n",
       "      <td>0.006210</td>\n",
       "    </tr>\n",
       "    <tr>\n",
       "      <th>Barrie</th>\n",
       "      <td>0.005951</td>\n",
       "    </tr>\n",
       "  </tbody>\n",
       "</table>\n",
       "</div>"
      ],
      "text/plain": [
       "                Population in 2016\n",
       "Toronto                   0.221899\n",
       "Montreal                  0.143842\n",
       "Vancouver                 0.092561\n",
       "Calgary                   0.050582\n",
       "Edmonton                  0.043429\n",
       "Ottawa                    0.040446\n",
       "Winnipeg                  0.029096\n",
       "Quebec City               0.028817\n",
       "Hamilton                  0.028349\n",
       "Kitchener                 0.019209\n",
       "London                    0.015671\n",
       "Victoria                  0.013720\n",
       "Halifax                   0.012943\n",
       "Oshawa                    0.012623\n",
       "Windsor                   0.011732\n",
       "Saskatoon                 0.010020\n",
       "St. Catharines            0.009369\n",
       "Regina                    0.008772\n",
       "St. John's                0.007292\n",
       "Kelowna                   0.006210\n",
       "Barrie                    0.005951"
      ]
     },
     "execution_count": 196,
     "metadata": {},
     "output_type": "execute_result"
    }
   ],
   "source": [
    "# Not enough sufficient daily data on st. Catharines for 2016 can be found\n",
    "# Let's remove it from the list (st. Catharines,id: 53000)\n",
    "# Add city ranking number 21 into the list in its place\n",
    "cityframe.apply(lambda x: x / float(x.sum())).head(n=21)"
   ]
  },
  {
   "cell_type": "code",
   "execution_count": 197,
   "metadata": {
    "collapsed": false
   },
   "outputs": [
    {
     "name": "stdout",
     "output_type": "stream",
     "text": [
      "20\n"
     ]
    }
   ],
   "source": [
    "# Add Barrie (ranking number 21) to station IDs and remove St. Catharines\n",
    "stations.append(42183)\n",
    "stations.remove(53000)\n",
    "\n",
    "# Make sure we're back at 20 cities\n",
    "print(len(stations))"
   ]
  },
  {
   "cell_type": "code",
   "execution_count": 198,
   "metadata": {
    "collapsed": false
   },
   "outputs": [
    {
     "name": "stdout",
     "output_type": "stream",
     "text": [
      "             Population in 2016\n",
      "Toronto                0.221899\n",
      "Montreal               0.143842\n",
      "Vancouver              0.092561\n",
      "Calgary                0.050582\n",
      "Edmonton               0.043429\n",
      "Ottawa                 0.040446\n",
      "Winnipeg               0.029096\n",
      "Quebec City            0.028817\n",
      "Hamilton               0.028349\n",
      "Kitchener              0.019209\n",
      "London                 0.015671\n",
      "Victoria               0.013720\n",
      "Halifax                0.012943\n",
      "Oshawa                 0.012623\n",
      "Windsor                0.011732\n",
      "Saskatoon              0.010020\n",
      "Regina                 0.008772\n",
      "St. John's             0.007292\n",
      "Kelowna                0.006210\n",
      "Barrie                 0.005951\n"
     ]
    }
   ],
   "source": [
    "# Get the top 21 population % and remove st. Catharines\n",
    "weight=cityframe.apply(lambda x: x / float(x.sum())).head(n=21)\n",
    "weight=weight.drop(['St. Catharines'])\n",
    "\n",
    "# Let's take a look\n",
    "print(weight)"
   ]
  },
  {
   "cell_type": "code",
   "execution_count": 199,
   "metadata": {
    "collapsed": false
   },
   "outputs": [
    {
     "name": "stdout",
     "output_type": "stream",
     "text": [
      "20\n",
      "12\n"
     ]
    }
   ],
   "source": [
    "# Now let's build a url list for the year of 2016 for the top 20 cities to be scraped later\n",
    "pagelist=[]\n",
    "now = datetime.now()\n",
    "for id in stations:\n",
    "    lst=[]\n",
    "    for month in range(1, 13):\n",
    "        url='http://climate.weather.gc.ca/climate_data/daily_data_e.html?StationID='+str(id)+'&timeframe=2&StartYear=1840&EndYear=2018&Day=7&Year=2016'+'&Month='+str(month)+'#'\n",
    "        lst.append(url)\n",
    "    pagelist.append(lst)\n",
    "        \n",
    "# Check to make sure we have an url for each month, and 12 months for the year\n",
    "print(len(pagelist))\n",
    "print(len(lst))"
   ]
  },
  {
   "cell_type": "code",
   "execution_count": 226,
   "metadata": {
    "collapsed": false
   },
   "outputs": [
    {
     "name": "stdout",
     "output_type": "stream",
     "text": [
      "1\n",
      "2\n",
      "3\n",
      "4\n",
      "5\n",
      "6\n",
      "7\n",
      "8\n",
      "9\n",
      "10\n",
      "11\n",
      "12\n",
      "13\n",
      "14\n",
      "15\n",
      "16\n",
      "17\n",
      "18\n",
      "19\n",
      "20\n"
     ]
    }
   ],
   "source": [
    "# Let's grab the Mean Temp for now, the scrapeWeather function is modified for it\n",
    "# n is a counter to help me figure out if and where ScrapeWeather fails\n",
    "result=[]\n",
    "results=[]\n",
    "n=1\n",
    "for lst in pagelist:\n",
    "    r=[]\n",
    "    for page in lst:\n",
    "        df=ScrapeWeather(page)\n",
    "        r.append(getMean(df))\n",
    "    result.append(pd.concat(r))\n",
    "    print(n)\n",
    "    n+=1"
   ]
  },
  {
   "cell_type": "code",
   "execution_count": 209,
   "metadata": {
    "collapsed": false
   },
   "outputs": [],
   "source": [
    "# Let's get the mean and max ones as well\n",
    "resultmin=[]\n",
    "resultmax=[]\n",
    "resultsmin=[]\n",
    "resultsmax=[]\n",
    "n=1\n",
    "for lst in pagelist:\n",
    "    rmin=[]\n",
    "    rmax=[]\n",
    "    for page in lst:\n",
    "        df=ScrapeWeather(page)\n",
    "        rmin.append(getMin(df))\n",
    "        rmax.append(getMax(df))\n",
    "    resultmin.append(pd.concat(rmin))\n",
    "    resultmax.append(pd.concat(rmax))"
   ]
  },
  {
   "cell_type": "code",
   "execution_count": 327,
   "metadata": {
    "collapsed": false
   },
   "outputs": [
    {
     "name": "stdout",
     "output_type": "stream",
     "text": [
      "20\n",
      "20\n"
     ]
    }
   ],
   "source": [
    "# Let's remove St. Catharines from the city names\n",
    "cities=city[0:21]\n",
    "cities.remove('St. Catharines')\n",
    "print(len(cities))\n",
    "print(len(result))"
   ]
  },
  {
   "cell_type": "code",
   "execution_count": 328,
   "metadata": {
    "collapsed": false
   },
   "outputs": [],
   "source": [
    "# Construct dataframes for Mean Temp, Min Temp and Max Temp\n",
    "results = pd.concat(result, axis=1, join_axes=[result[0].index], keys=cities)\n",
    "resultsmin = pd.concat(resultmin, axis=1, join_axes=[result[0].index], keys=cities)\n",
    "resultsmax = pd.concat(resultmax, axis=1, join_axes=[result[0].index], keys=cities)"
   ]
  },
  {
   "cell_type": "code",
   "execution_count": 329,
   "metadata": {
    "collapsed": false
   },
   "outputs": [
    {
     "name": "stdout",
     "output_type": "stream",
     "text": [
      "Print mean temp\n",
      "            Toronto  Montreal  Vancouver  Calgary  Edmonton  Ottawa  Winnipeg  \\\n",
      "2016-01-01     -2.3      -2.0       -1.8     -5.4      -8.2    -2.3      -8.9   \n",
      "2016-01-02     -2.0      -2.1       -2.0     -9.2     -11.4    -3.9      -7.8   \n",
      "2016-01-03     -5.0      -7.1       -1.2     -9.5     -14.9    -8.5     -10.9   \n",
      "2016-01-04    -13.3     -16.5        0.8     -7.5     -15.7   -17.1     -10.1   \n",
      "2016-01-05     -8.9     -13.8        0.6    -10.5     -16.4   -16.1     -10.7   \n",
      "\n",
      "            Quebec City  Hamilton  Kitchener  London  Victoria  Halifax  \\\n",
      "2016-01-01         -5.3      -2.6       -3.2    -3.2      -0.2     -2.2   \n",
      "2016-01-02         -3.2      -1.3       -2.9    -2.3      -0.1     -1.9   \n",
      "2016-01-03         -6.7      -4.4       -4.8    -4.5       0.6      0.2   \n",
      "2016-01-04        -15.2     -13.3      -13.6   -12.7       1.2     -6.3   \n",
      "2016-01-05        -20.0      -9.8      -11.5   -10.6       1.7    -11.4   \n",
      "\n",
      "            Oshawa  Windsor  Saskatoon  Regina  St. John's  Kelowna  Barrie  \n",
      "2016-01-01    -1.6     -2.5       -6.7    -7.0        -2.0    -10.5    -2.9  \n",
      "2016-01-02    -1.8     -0.4       -7.9    -9.6        -2.7     -8.7    -3.1  \n",
      "2016-01-03    -5.8     -1.7       -9.6   -11.2        -1.3     -8.7    -7.7  \n",
      "2016-01-04   -14.1     -7.5       -9.3    -7.0        -1.2      NaN   -19.1  \n",
      "2016-01-05   -10.4     -7.8      -13.8   -11.9        -8.4     -3.0     NaN  \n",
      "Print min temp\n",
      "            Toronto  Montreal  Vancouver  Calgary  Edmonton  Ottawa  Winnipeg  \\\n",
      "2016-01-01     -4.2      -4.0       -6.1    -12.0     -17.2    -3.9     -12.0   \n",
      "2016-01-02     -4.3      -4.5       -6.5    -16.8     -19.2    -6.9     -13.3   \n",
      "2016-01-03    -11.6     -14.4       -5.3    -16.3     -22.1   -16.4     -15.8   \n",
      "2016-01-04    -15.4     -20.1       -2.6    -12.9     -23.3   -19.9     -14.9   \n",
      "2016-01-05    -15.2     -21.2       -2.9    -13.8     -23.4   -25.2     -15.6   \n",
      "\n",
      "            Quebec City  Hamilton  Kitchener  London  Victoria  Halifax  \\\n",
      "2016-01-01         -9.0      -4.2       -4.6    -4.6      -4.0     -4.7   \n",
      "2016-01-02         -4.9      -3.5       -4.5    -3.6      -2.6     -5.0   \n",
      "2016-01-03        -12.8      -9.7       -9.6    -8.6      -2.8     -2.4   \n",
      "2016-01-04        -19.4     -17.0      -17.6   -17.6      -1.2    -12.0   \n",
      "2016-01-05        -28.0     -17.1      -18.9   -18.2       0.4    -14.2   \n",
      "\n",
      "            Oshawa  Windsor  Saskatoon  Regina  St. John's  Kelowna  Barrie  \n",
      "2016-01-01    -3.2     -3.5      -11.1   -11.4        -4.3    -15.8    -4.0  \n",
      "2016-01-02    -4.3     -2.7      -13.0   -15.9        -4.7     -9.4    -4.9  \n",
      "2016-01-03   -13.4     -4.3      -14.5   -16.6        -3.7     -9.5   -15.4  \n",
      "2016-01-04   -16.7    -11.4      -15.1   -12.1        -5.3      NaN   -24.1  \n",
      "2016-01-05   -17.9    -13.2      -19.4   -17.1       -11.4     -5.2     NaN  \n",
      "Print max temp\n",
      "            Toronto  Montreal  Vancouver  Calgary  Edmonton  Ottawa  Winnipeg  \\\n",
      "2016-01-01     -0.3       0.0        2.6      1.2       0.8    -0.7      -5.8   \n",
      "2016-01-02      0.3       0.4        2.6     -1.6      -3.5    -0.9      -2.3   \n",
      "2016-01-03      1.6       0.2        2.9     -2.7      -7.7    -0.5      -6.0   \n",
      "2016-01-04    -11.2     -12.9        4.1     -2.0      -8.0   -14.3      -5.2   \n",
      "2016-01-05     -2.6      -6.3        4.0     -7.1      -9.4    -6.9      -5.8   \n",
      "\n",
      "            Quebec City  Hamilton  Kitchener  London  Victoria  Halifax  \\\n",
      "2016-01-01         -1.6      -1.0       -1.7    -1.7       3.7      0.4   \n",
      "2016-01-02         -1.4       1.0       -1.3    -1.0       2.5      1.3   \n",
      "2016-01-03         -0.5       0.9        0.0    -0.3       4.0      2.7   \n",
      "2016-01-04        -10.9      -9.6       -9.6    -7.7       3.5     -0.5   \n",
      "2016-01-05        -11.9      -2.4       -4.1    -3.0       3.0     -8.6   \n",
      "\n",
      "            Oshawa  Windsor  Saskatoon  Regina  St. John's  Kelowna  Barrie  \n",
      "2016-01-01     0.0     -1.5       -2.2    -2.5         0.3     -5.2    -1.7  \n",
      "2016-01-02     0.7      2.0       -2.7    -3.2        -0.6     -7.9    -1.3  \n",
      "2016-01-03     1.8      0.9       -4.6    -5.7         1.2     -7.9     0.0  \n",
      "2016-01-04   -11.4     -3.6       -3.5    -1.8         3.0      NaN   -14.0  \n",
      "2016-01-05    -2.9     -2.4       -8.2    -6.7        -5.3     -0.7     NaN  \n"
     ]
    }
   ],
   "source": [
    "# Let's print the dataframes and take a quick look\n",
    "print(\"Print mean temp\")\n",
    "print(results.head())\n",
    "print(\"Print min temp\")\n",
    "print(resultsmin.head())\n",
    "print(\"Print max temp\")\n",
    "print(resultsmax.head())"
   ]
  },
  {
   "cell_type": "code",
   "execution_count": 330,
   "metadata": {
    "collapsed": false
   },
   "outputs": [
    {
     "name": "stdout",
     "output_type": "stream",
     "text": [
      "            Population in 2016\n",
      "2016-01-01           -2.590282\n",
      "2016-01-02           -2.805845\n",
      "2016-01-03           -4.897036\n",
      "2016-01-04                 NaN\n",
      "2016-01-05                 NaN\n",
      "2016-01-06           -3.625227\n",
      "2016-01-07           -2.648498\n",
      "2016-01-08                 NaN\n",
      "2016-01-09           -0.650714\n",
      "2016-01-10           -1.436209\n"
     ]
    }
   ],
   "source": [
    "# Check to see if the dot product makes sense\n",
    "print(results.dot(weight).head(n=10))"
   ]
  },
  {
   "cell_type": "code",
   "execution_count": 233,
   "metadata": {
    "collapsed": false
   },
   "outputs": [
    {
     "name": "stdout",
     "output_type": "stream",
     "text": [
      "Population in 2016    0\n",
      "dtype: int64\n"
     ]
    }
   ],
   "source": [
    "# As shown above, there are many missing values. \n",
    "# To work around it, I will fill the missing value with interpolations for the purpose of calculating dot products\n",
    "results=results.interpolate()\n",
    "wMeanTemp=results.dot(weight)\n",
    "\n",
    "# Make sure there's no more missing values\n",
    "print(results.dot(weight).isnull().sum())"
   ]
  },
  {
   "cell_type": "code",
   "execution_count": 237,
   "metadata": {
    "collapsed": false
   },
   "outputs": [
    {
     "name": "stdout",
     "output_type": "stream",
     "text": [
      "            Weighted Mean Temp\n",
      "2016-01-01           -2.590282\n",
      "2016-01-02           -2.805845\n",
      "2016-01-03           -4.897036\n",
      "2016-01-04           -9.216998\n",
      "2016-01-05           -8.102497\n"
     ]
    }
   ],
   "source": [
    "# Rename the title for the weighted average temp\n",
    "wMeanTemp.columns=['Weighted Mean Temp']\n",
    "print(wMeanTemp.head())"
   ]
  },
  {
   "cell_type": "code",
   "execution_count": 238,
   "metadata": {
    "collapsed": false
   },
   "outputs": [
    {
     "name": "stdout",
     "output_type": "stream",
     "text": [
      "            Weighted Min Temp\n",
      "2016-01-01          -5.033347\n",
      "2016-01-02          -5.513924\n",
      "2016-01-03          -9.763833\n",
      "2016-01-04         -12.108277\n",
      "2016-01-05         -12.955989\n",
      "            Weighted Max Temp\n",
      "2016-01-01          -0.107143\n",
      "2016-01-02          -0.056998\n",
      "2016-01-03          -0.020431\n",
      "2016-01-04          -6.314519\n",
      "2016-01-05          -3.227112\n"
     ]
    }
   ],
   "source": [
    "# Now do the same for the rest\n",
    "resultsmin=resultsmin.interpolate()\n",
    "wMinTemp=resultsmin.dot(weight)\n",
    "\n",
    "resultsmax=resultsmax.interpolate()\n",
    "wMaxTemp=resultsmax.dot(weight)\n",
    "\n",
    "wMinTemp.columns=['Weighted Min Temp']\n",
    "wMaxTemp.columns=['Weighted Max Temp']\n",
    "\n",
    "# Quick check on the weighted Min Temp and the weighted Max Temp\n",
    "print(wMinTemp.head())\n",
    "print(wMaxTemp.head())"
   ]
  },
  {
   "cell_type": "code",
   "execution_count": 239,
   "metadata": {
    "collapsed": true
   },
   "outputs": [],
   "source": [
    "# Plotting time!"
   ]
  },
  {
   "cell_type": "code",
   "execution_count": 240,
   "metadata": {
    "collapsed": false
   },
   "outputs": [
    {
     "data": {
      "text/html": [
       "<script>requirejs.config({paths: { 'plotly': ['https://cdn.plot.ly/plotly-latest.min']},});if(!window.Plotly) {{require(['plotly'],function(plotly) {window.Plotly=plotly;});}}</script>"
      ],
      "text/vnd.plotly.v1+html": [
       "<script>requirejs.config({paths: { 'plotly': ['https://cdn.plot.ly/plotly-latest.min']},});if(!window.Plotly) {{require(['plotly'],function(plotly) {window.Plotly=plotly;});}}</script>"
      ]
     },
     "metadata": {},
     "output_type": "display_data"
    }
   ],
   "source": [
    "# Import plotly\n",
    "import plotly.plotly as py\n",
    "from plotly.offline import download_plotlyjs, init_notebook_mode, plot, iplot\n",
    "from plotly.graph_objs import Scatter, Figure, Layout\n",
    "import plotly.graph_objs as go\n",
    "init_notebook_mode(connected=True)"
   ]
  },
  {
   "cell_type": "code",
   "execution_count": 242,
   "metadata": {
    "collapsed": false
   },
   "outputs": [
    {
     "data": {
      "text/html": [
       "<iframe id=\"igraph\" scrolling=\"no\" style=\"border:none;\" seamless=\"seamless\" src=\"https://plot.ly/~yxtzhu/14.embed\" height=\"525px\" width=\"100%\"></iframe>"
      ],
      "text/plain": [
       "<plotly.tools.PlotlyDisplay object>"
      ]
     },
     "execution_count": 242,
     "metadata": {},
     "output_type": "execute_result"
    }
   ],
   "source": [
    "# Set plotting variables\n",
    "\n",
    "Maxtrace = go.Bar(\n",
    "    x=wMaxTemp.index,\n",
    "    y=wMaxTemp['Weighted Max Temp'],\n",
    "    name='Weighted Max Temp',\n",
    "    marker=dict(\n",
    "        color='rgb(158,202,225)',\n",
    "        line=dict(\n",
    "            color='rgb(8,48,107)',\n",
    "            width=1.5,\n",
    "        )\n",
    "    ),\n",
    "    opacity=0.6\n",
    ")\n",
    "\n",
    "Mintrace = go.Bar(\n",
    "    x=wMinTemp.index,\n",
    "    y=wMinTemp['Weighted Min Temp'],\n",
    "    name='Weighted Min Temp',\n",
    "    marker=dict(\n",
    "        color='rgb(178,255,102)',\n",
    "        line=dict(\n",
    "            color='rgb(76,153,0)',\n",
    "            width=1.5,\n",
    "        )\n",
    "    ),\n",
    "    opacity=0.6\n",
    ")\n",
    "\n",
    "Meantrace = go.Scatter(\n",
    "    x = wMeanTemp.index,\n",
    "    y = wMeanTemp['Weighted Mean Temp'],\n",
    "    name='Weighted Mean Temp',\n",
    "    line = dict(\n",
    "        color = ('rgb(255, 175, 102)'),\n",
    "        width = 3,\n",
    "        dash = 'dot')\n",
    ")\n",
    "data = [Mintrace, Maxtrace, Meantrace]\n",
    "layout = go.Layout(\n",
    "    title = 'The 2016 Climate for ONE Canadian'\n",
    ")\n",
    "\n",
    "fig = go.Figure(data=data, layout=layout)\n",
    "py.iplot(fig, filename='OneCA2016')"
   ]
  },
  {
   "cell_type": "code",
   "execution_count": 266,
   "metadata": {
    "collapsed": false
   },
   "outputs": [
    {
     "name": "stdout",
     "output_type": "stream",
     "text": [
      "Out of 366 days in year 2016, 133 days were less than or equal to the freezing point. That's 36 percent of the time!!\n"
     ]
    }
   ],
   "source": [
    "# Let's find out what portion of the year are below freezing!\n",
    "freeze=sum(n <= 0 for n in wMinTemp.values.flatten())\n",
    "\n",
    "print('Out of %d days in year 2016, %d days were less than or equal to the freezing point. \\\n",
    "That\\'s %d percent of the time!!' %(len(wMinTemp), freeze, 100*(freeze/len(wMinTemp))))"
   ]
  },
  {
   "cell_type": "code",
   "execution_count": 269,
   "metadata": {
    "collapsed": false
   },
   "outputs": [
    {
     "name": "stdout",
     "output_type": "stream",
     "text": [
      "Out of 366 days in year 2016, 206 days were less than or equal to the Canadian Food Inspection Agency standard for refrigeration temperature. The Canadian lives 56 percent of the time in a fridge!!\n"
     ]
    }
   ],
   "source": [
    "# According to the Canadian Food Inspection Agency, refrigerator should be set to 4°C\n",
    "# CFIA website: http://www.inspection.gc.ca/food/non-federally-registered/safe-food-production/guide/eng/1352824546303/1352824822033\n",
    "fridge=sum(n <= 4 for n in wMinTemp.values.flatten())\n",
    "\n",
    "print('Out of %d days in year 2016, %d days were less than or equal to the Canadian Food Inspection Agency \\\n",
    "standard for refrigeration temperature. The Canadian lives %d percent of the time in a fridge!!' \\\n",
    "      %(len(wMinTemp), fridge, 100*(fridge/len(wMinTemp))))"
   ]
  },
  {
   "cell_type": "code",
   "execution_count": 334,
   "metadata": {
    "collapsed": false
   },
   "outputs": [
    {
     "data": {
      "text/html": [
       "<iframe id=\"igraph\" scrolling=\"no\" style=\"border:none;\" seamless=\"seamless\" src=\"https://plot.ly/~yxtzhu/16.embed\" height=\"525px\" width=\"100%\"></iframe>"
      ],
      "text/plain": [
       "<plotly.tools.PlotlyDisplay object>"
      ]
     },
     "execution_count": 334,
     "metadata": {},
     "output_type": "execute_result"
    }
   ],
   "source": [
    "# Scatterplot max and min temp\n",
    "\n",
    "Mintrace = go.Scatter(\n",
    "    x = wMinTemp.index,\n",
    "    y = wMinTemp['Weighted Min Temp'],\n",
    "    name='Min Temp',\n",
    "    mode='markers',\n",
    "    marker=dict(\n",
    "        size='16',\n",
    "        color = np.random.randn(len(wMinTemp)),\n",
    "        colorscale='Viridis',\n",
    "        showscale=False\n",
    "    )\n",
    ")\n",
    "\n",
    "Maxtrace = go.Scatter(\n",
    "    x = wMaxTemp.index,\n",
    "    y = wMaxTemp['Weighted Max Temp'],\n",
    "    name='Max Temp',\n",
    "    mode='markers',\n",
    "    marker=dict(\n",
    "        size='16',\n",
    "        color = np.random.randn(len(wMaxTemp)),\n",
    "        colorscale='Magma',\n",
    "        showscale=False\n",
    "    )\n",
    ")\n",
    "\n",
    "d = [Mintrace, Maxtrace]\n",
    "layout2= go.Layout(\n",
    "    title= 'Extreme climate of one Canadian',\n",
    "    hovermode= 'closest')\n",
    "fig= go.Figure(data=d, layout=layout2)\n",
    "py.iplot(d, filename='scatterTemp')"
   ]
  },
  {
   "cell_type": "code",
   "execution_count": 331,
   "metadata": {
    "collapsed": false
   },
   "outputs": [
    {
     "data": {
      "text/html": [
       "<iframe id=\"igraph\" scrolling=\"no\" style=\"border:none;\" seamless=\"seamless\" src=\"https://plot.ly/~yxtzhu/18.embed\" height=\"525px\" width=\"100%\"></iframe>"
      ],
      "text/plain": [
       "<plotly.tools.PlotlyDisplay object>"
      ]
     },
     "execution_count": 331,
     "metadata": {},
     "output_type": "execute_result"
    }
   ],
   "source": [
    "# Plot Mean Temp for the top 5 cities, not this is not weighted values\n",
    "\n",
    "Toronto = go.Scatter(\n",
    "    x = results.index,\n",
    "    y = results['Toronto'],\n",
    "    name='Toronto',\n",
    "    mode='markers',\n",
    "    marker=dict(\n",
    "        size='8',\n",
    "        color = ('rgb(158,202,225)')\n",
    "    ),\n",
    "    opacity=0.6\n",
    ")\n",
    "\n",
    "Montreal = go.Scatter(\n",
    "    x = results.index,\n",
    "    y = results['Montreal'],\n",
    "    name='Montreal',\n",
    "    mode='markers',\n",
    "    marker=dict(\n",
    "        size='8',\n",
    "        color = ('rgb(255, 153, 153)'),\n",
    "    ),\n",
    "    opacity=0.6\n",
    ")\n",
    "\n",
    "Vancouver = go.Scatter(\n",
    "    x = results.index,\n",
    "    y = results['Vancouver'],\n",
    "    name='Vancouver',\n",
    "    mode='markers',\n",
    "    marker=dict(\n",
    "        size='8',\n",
    "        color = ('rgb(153, 153, 255)')\n",
    "    ),\n",
    "    opacity=0.6\n",
    ")\n",
    "\n",
    "Calgary = go.Scatter(\n",
    "    x = results.index,\n",
    "    y = results['Calgary'],\n",
    "    name='Calgary',\n",
    "    mode='markers',\n",
    "    marker=dict(\n",
    "        size='8',\n",
    "        color = ('rgb(255, 175, 10)')\n",
    "    ),\n",
    "    opacity=0.6\n",
    ")\n",
    "\n",
    "Edmonton = go.Scatter(\n",
    "    x = results.index,\n",
    "    y = results['Edmonton'],\n",
    "    name='Edmonton',\n",
    "    mode='markers',\n",
    "    marker=dict(\n",
    "        size='8',\n",
    "        color = ('rgb(204, 255, 153)')\n",
    "    ),\n",
    "    opacity=0.6\n",
    ")\n",
    "dmean = [Toronto, Montreal, Vancouver, Calgary, Edmonton]\n",
    "\n",
    "py.iplot(dmean, filename='temp')"
   ]
  },
  {
   "cell_type": "code",
   "execution_count": null,
   "metadata": {
    "collapsed": true
   },
   "outputs": [],
   "source": []
  }
 ],
 "metadata": {
  "anaconda-cloud": {},
  "kernelspec": {
   "display_name": "Python [Root]",
   "language": "python",
   "name": "Python [Root]"
  },
  "language_info": {
   "codemirror_mode": {
    "name": "ipython",
    "version": 3
   },
   "file_extension": ".py",
   "mimetype": "text/x-python",
   "name": "python",
   "nbconvert_exporter": "python",
   "pygments_lexer": "ipython3",
   "version": "3.5.2"
  }
 },
 "nbformat": 4,
 "nbformat_minor": 2
}
